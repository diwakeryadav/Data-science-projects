{
 "cells": [
  {
   "cell_type": "code",
   "execution_count": 1,
   "id": "opposed-friendly",
   "metadata": {
    "_cell_guid": "b1076dfc-b9ad-4769-8c92-a6c4dae69d19",
    "_uuid": "8f2839f25d086af736a60e9eeb907d3b93b6e0e5",
    "execution": {
     "iopub.execute_input": "2021-08-15T20:16:37.511831Z",
     "iopub.status.busy": "2021-08-15T20:16:37.511115Z",
     "iopub.status.idle": "2021-08-15T20:16:39.823379Z",
     "shell.execute_reply": "2021-08-15T20:16:39.824056Z",
     "shell.execute_reply.started": "2021-07-11T16:57:34.292904Z"
    },
    "papermill": {
     "duration": 2.381441,
     "end_time": "2021-08-15T20:16:39.824404",
     "exception": false,
     "start_time": "2021-08-15T20:16:37.442963",
     "status": "completed"
    },
    "tags": []
   },
   "outputs": [],
   "source": [
    "import numpy as np\n",
    "import pandas as pd \n",
    "import matplotlib.pyplot as plt \n",
    "import seaborn as sns\n",
    "import matplotlib.pyplot as plt\n",
    "\n",
    "from wordcloud import WordCloud, STOPWORDS\n",
    "from sklearn.feature_extraction.text import TfidfVectorizer\n",
    "\n",
    "from sklearn.pipeline import Pipeline\n",
    "from sklearn.model_selection import train_test_split\n",
    "from sklearn.metrics import confusion_matrix,f1_score\n",
    "from sklearn.naive_bayes import MultinomialNB\n",
    "from sklearn.ensemble import RandomForestClassifier\n",
    "\n",
    "from sklearn import metrics\n",
    "from sklearn.metrics import accuracy_score, classification_report\n",
    "from sklearn.tree import DecisionTreeClassifier\n",
    "from sklearn.naive_bayes import MultinomialNB\n",
    "from sklearn.ensemble import RandomForestClassifier\n",
    "from sklearn.neighbors import KNeighborsClassifier\n",
    "from sklearn.linear_model import LogisticRegression\n",
    "\n",
    "import warnings\n",
    "warnings.filterwarnings(\"ignore\")"
   ]
  },
  {
   "cell_type": "code",
   "execution_count": 2,
   "id": "recreational-panic",
   "metadata": {
    "execution": {
     "iopub.execute_input": "2021-08-15T20:16:39.934871Z",
     "iopub.status.busy": "2021-08-15T20:16:39.934210Z",
     "iopub.status.idle": "2021-08-15T20:16:40.117353Z",
     "shell.execute_reply": "2021-08-15T20:16:40.116667Z",
     "shell.execute_reply.started": "2021-07-11T16:57:36.546127Z"
    },
    "papermill": {
     "duration": 0.239498,
     "end_time": "2021-08-15T20:16:40.117499",
     "exception": false,
     "start_time": "2021-08-15T20:16:39.878001",
     "status": "completed"
    },
    "tags": []
   },
   "outputs": [],
   "source": [
    "sentiment=pd.read_csv(r'C:\\Users\\91858\\Desktop\\ALL FILES\\Sentiment_Stock_data.csv')"
   ]
  },
  {
   "cell_type": "code",
   "execution_count": 3,
   "id": "9f7830ae",
   "metadata": {
    "scrolled": false
   },
   "outputs": [
    {
     "data": {
      "text/html": [
       "<div>\n",
       "<style scoped>\n",
       "    .dataframe tbody tr th:only-of-type {\n",
       "        vertical-align: middle;\n",
       "    }\n",
       "\n",
       "    .dataframe tbody tr th {\n",
       "        vertical-align: top;\n",
       "    }\n",
       "\n",
       "    .dataframe thead th {\n",
       "        text-align: right;\n",
       "    }\n",
       "</style>\n",
       "<table border=\"1\" class=\"dataframe\">\n",
       "  <thead>\n",
       "    <tr style=\"text-align: right;\">\n",
       "      <th></th>\n",
       "      <th>Unnamed: 0</th>\n",
       "      <th>Sentiment</th>\n",
       "      <th>Sentence</th>\n",
       "    </tr>\n",
       "  </thead>\n",
       "  <tbody>\n",
       "    <tr>\n",
       "      <th>0</th>\n",
       "      <td>0</td>\n",
       "      <td>0</td>\n",
       "      <td>According to Gran , the company has no plans t...</td>\n",
       "    </tr>\n",
       "    <tr>\n",
       "      <th>1</th>\n",
       "      <td>1</td>\n",
       "      <td>1</td>\n",
       "      <td>For the last quarter of 2010 , Componenta 's n...</td>\n",
       "    </tr>\n",
       "    <tr>\n",
       "      <th>2</th>\n",
       "      <td>2</td>\n",
       "      <td>1</td>\n",
       "      <td>In the third quarter of 2010 , net sales incre...</td>\n",
       "    </tr>\n",
       "    <tr>\n",
       "      <th>3</th>\n",
       "      <td>3</td>\n",
       "      <td>1</td>\n",
       "      <td>Operating profit rose to EUR 13.1 mn from EUR ...</td>\n",
       "    </tr>\n",
       "    <tr>\n",
       "      <th>4</th>\n",
       "      <td>4</td>\n",
       "      <td>1</td>\n",
       "      <td>Operating profit totalled EUR 21.1 mn , up fro...</td>\n",
       "    </tr>\n",
       "    <tr>\n",
       "      <th>5</th>\n",
       "      <td>5</td>\n",
       "      <td>1</td>\n",
       "      <td>Finnish Talentum reports its operating profit ...</td>\n",
       "    </tr>\n",
       "    <tr>\n",
       "      <th>6</th>\n",
       "      <td>6</td>\n",
       "      <td>1</td>\n",
       "      <td>Clothing retail chain Sepp+ñl+ñ 's sales incre...</td>\n",
       "    </tr>\n",
       "    <tr>\n",
       "      <th>7</th>\n",
       "      <td>7</td>\n",
       "      <td>1</td>\n",
       "      <td>Consolidated net sales increased 16 % to reach...</td>\n",
       "    </tr>\n",
       "    <tr>\n",
       "      <th>8</th>\n",
       "      <td>8</td>\n",
       "      <td>1</td>\n",
       "      <td>Foundries division reports its sales increased...</td>\n",
       "    </tr>\n",
       "    <tr>\n",
       "      <th>9</th>\n",
       "      <td>9</td>\n",
       "      <td>1</td>\n",
       "      <td>HELSINKI ( AFX ) - Shares closed higher , led ...</td>\n",
       "    </tr>\n",
       "  </tbody>\n",
       "</table>\n",
       "</div>"
      ],
      "text/plain": [
       "   Unnamed: 0  Sentiment                                           Sentence\n",
       "0           0          0  According to Gran , the company has no plans t...\n",
       "1           1          1  For the last quarter of 2010 , Componenta 's n...\n",
       "2           2          1  In the third quarter of 2010 , net sales incre...\n",
       "3           3          1  Operating profit rose to EUR 13.1 mn from EUR ...\n",
       "4           4          1  Operating profit totalled EUR 21.1 mn , up fro...\n",
       "5           5          1  Finnish Talentum reports its operating profit ...\n",
       "6           6          1  Clothing retail chain Sepp+ñl+ñ 's sales incre...\n",
       "7           7          1  Consolidated net sales increased 16 % to reach...\n",
       "8           8          1  Foundries division reports its sales increased...\n",
       "9           9          1  HELSINKI ( AFX ) - Shares closed higher , led ..."
      ]
     },
     "execution_count": 3,
     "metadata": {},
     "output_type": "execute_result"
    }
   ],
   "source": [
    "sentiment.head(10)"
   ]
  },
  {
   "cell_type": "code",
   "execution_count": 4,
   "id": "4fecc713",
   "metadata": {},
   "outputs": [],
   "source": [
    "sentiment=sentiment.drop(sentiment.columns[0],axis=1)"
   ]
  },
  {
   "cell_type": "code",
   "execution_count": 5,
   "id": "da58e5a4",
   "metadata": {},
   "outputs": [],
   "source": [
    "sentiment=sentiment[:20000]"
   ]
  },
  {
   "cell_type": "code",
   "execution_count": 6,
   "id": "6e9ebd20",
   "metadata": {},
   "outputs": [
    {
     "data": {
      "text/plain": [
       "0    11454\n",
       "1     8546\n",
       "Name: Sentiment, dtype: int64"
      ]
     },
     "execution_count": 6,
     "metadata": {},
     "output_type": "execute_result"
    }
   ],
   "source": [
    "sentiment[\"Sentiment\"].value_counts()"
   ]
  },
  {
   "cell_type": "code",
   "execution_count": 7,
   "id": "437aabd4",
   "metadata": {},
   "outputs": [
    {
     "data": {
      "text/plain": [
       "(20000, 2)"
      ]
     },
     "execution_count": 7,
     "metadata": {},
     "output_type": "execute_result"
    }
   ],
   "source": [
    "sentiment.shape"
   ]
  },
  {
   "cell_type": "code",
   "execution_count": 8,
   "id": "c926c257",
   "metadata": {},
   "outputs": [],
   "source": [
    "def remwhitespace(sentiment):\n",
    "    return \"\".join(sentiment.split())"
   ]
  },
  {
   "cell_type": "code",
   "execution_count": 9,
   "id": "395a616d",
   "metadata": {
    "scrolled": false
   },
   "outputs": [
    {
     "data": {
      "text/html": [
       "<div>\n",
       "<style scoped>\n",
       "    .dataframe tbody tr th:only-of-type {\n",
       "        vertical-align: middle;\n",
       "    }\n",
       "\n",
       "    .dataframe tbody tr th {\n",
       "        vertical-align: top;\n",
       "    }\n",
       "\n",
       "    .dataframe thead th {\n",
       "        text-align: right;\n",
       "    }\n",
       "</style>\n",
       "<table border=\"1\" class=\"dataframe\">\n",
       "  <thead>\n",
       "    <tr style=\"text-align: right;\">\n",
       "      <th></th>\n",
       "      <th>Sentiment</th>\n",
       "      <th>Sentence</th>\n",
       "    </tr>\n",
       "  </thead>\n",
       "  <tbody>\n",
       "    <tr>\n",
       "      <th>0</th>\n",
       "      <td>0</td>\n",
       "      <td>According to Gran , the company has no plans t...</td>\n",
       "    </tr>\n",
       "    <tr>\n",
       "      <th>1</th>\n",
       "      <td>1</td>\n",
       "      <td>For the last quarter of 2010 , Componenta 's n...</td>\n",
       "    </tr>\n",
       "    <tr>\n",
       "      <th>2</th>\n",
       "      <td>1</td>\n",
       "      <td>In the third quarter of 2010 , net sales incre...</td>\n",
       "    </tr>\n",
       "    <tr>\n",
       "      <th>3</th>\n",
       "      <td>1</td>\n",
       "      <td>Operating profit rose to EUR 13.1 mn from EUR ...</td>\n",
       "    </tr>\n",
       "    <tr>\n",
       "      <th>4</th>\n",
       "      <td>1</td>\n",
       "      <td>Operating profit totalled EUR 21.1 mn , up fro...</td>\n",
       "    </tr>\n",
       "  </tbody>\n",
       "</table>\n",
       "</div>"
      ],
      "text/plain": [
       "   Sentiment                                           Sentence\n",
       "0          0  According to Gran , the company has no plans t...\n",
       "1          1  For the last quarter of 2010 , Componenta 's n...\n",
       "2          1  In the third quarter of 2010 , net sales incre...\n",
       "3          1  Operating profit rose to EUR 13.1 mn from EUR ...\n",
       "4          1  Operating profit totalled EUR 21.1 mn , up fro..."
      ]
     },
     "execution_count": 9,
     "metadata": {},
     "output_type": "execute_result"
    }
   ],
   "source": [
    "sentiment.head()"
   ]
  },
  {
   "cell_type": "code",
   "execution_count": 10,
   "id": "bd02dbe3",
   "metadata": {},
   "outputs": [],
   "source": [
    "# Converting the text column to datatype string for furthur processe\n",
    "sentiment['Sentence']=sentiment['Sentence'].astype(str)"
   ]
  },
  {
   "cell_type": "code",
   "execution_count": 11,
   "id": "37850286",
   "metadata": {},
   "outputs": [
    {
     "data": {
      "text/plain": [
       "0        According to Gran , the company has no plans t...\n",
       "1        For the last quarter of 2010 , Componenta 's n...\n",
       "2        In the third quarter of 2010 , net sales incre...\n",
       "3        Operating profit rose to EUR 13.1 mn from EUR ...\n",
       "4        Operating profit totalled EUR 21.1 mn , up fro...\n",
       "                               ...                        \n",
       "19995                         Leeds and Rangers could meet\n",
       "19996                               Worthington Cup worthy\n",
       "19997                               Bruce in at Birmingham\n",
       "19998               Cardiff chase Gloucester's Saint-Andre\n",
       "19999                       Wizards conjure up team spirit\n",
       "Name: Sentence, Length: 20000, dtype: object"
      ]
     },
     "execution_count": 11,
     "metadata": {},
     "output_type": "execute_result"
    }
   ],
   "source": [
    "sentiment['Sentence']"
   ]
  },
  {
   "cell_type": "code",
   "execution_count": 12,
   "id": "afc4a190",
   "metadata": {},
   "outputs": [],
   "source": [
    "sentences = sentiment['Sentence'].values\n",
    "labels = sentiment['Sentiment'].values"
   ]
  },
  {
   "cell_type": "code",
   "execution_count": 13,
   "id": "483e24f7",
   "metadata": {},
   "outputs": [],
   "source": [
    "import tensorflow as tf\n",
    "import seaborn as sns\n",
    "from sklearn.utils import shuffle\n",
    "import re\n",
    "from nltk.corpus import stopwords\n",
    "from nltk.stem.porter import PorterStemmer\n",
    "from nltk.stem import WordNetLemmatizer\n",
    "ps = PorterStemmer()"
   ]
  },
  {
   "cell_type": "code",
   "execution_count": 14,
   "id": "6d25ad96",
   "metadata": {},
   "outputs": [],
   "source": [
    "stopwords = [set(stopwords.words('english'))]"
   ]
  },
  {
   "cell_type": "code",
   "execution_count": 15,
   "id": "916cf932",
   "metadata": {},
   "outputs": [],
   "source": [
    "#Importing libraries necessary for data cleaning\n",
    "from nltk.stem.porter import PorterStemmer\n",
    "ps = PorterStemmer()"
   ]
  },
  {
   "cell_type": "code",
   "execution_count": 16,
   "id": "f5242207",
   "metadata": {},
   "outputs": [],
   "source": [
    "# Converting the text column to datatype string for furthur processe\n",
    "sentiment['Sentence']=sentiment['Sentence'].astype(str)"
   ]
  },
  {
   "cell_type": "code",
   "execution_count": 17,
   "id": "a79752d5",
   "metadata": {},
   "outputs": [
    {
     "data": {
      "text/plain": [
       "0        According to Gran , the company has no plans t...\n",
       "1        For the last quarter of 2010 , Componenta 's n...\n",
       "2        In the third quarter of 2010 , net sales incre...\n",
       "3        Operating profit rose to EUR 13.1 mn from EUR ...\n",
       "4        Operating profit totalled EUR 21.1 mn , up fro...\n",
       "                               ...                        \n",
       "19995                         Leeds and Rangers could meet\n",
       "19996                               Worthington Cup worthy\n",
       "19997                               Bruce in at Birmingham\n",
       "19998               Cardiff chase Gloucester's Saint-Andre\n",
       "19999                       Wizards conjure up team spirit\n",
       "Name: Sentence, Length: 20000, dtype: object"
      ]
     },
     "execution_count": 17,
     "metadata": {},
     "output_type": "execute_result"
    }
   ],
   "source": [
    "sentiment['Sentence']"
   ]
  },
  {
   "cell_type": "code",
   "execution_count": 19,
   "id": "4136a437",
   "metadata": {
    "scrolled": true
   },
   "outputs": [
    {
     "data": {
      "text/html": [
       "<div>\n",
       "<style scoped>\n",
       "    .dataframe tbody tr th:only-of-type {\n",
       "        vertical-align: middle;\n",
       "    }\n",
       "\n",
       "    .dataframe tbody tr th {\n",
       "        vertical-align: top;\n",
       "    }\n",
       "\n",
       "    .dataframe thead th {\n",
       "        text-align: right;\n",
       "    }\n",
       "</style>\n",
       "<table border=\"1\" class=\"dataframe\">\n",
       "  <thead>\n",
       "    <tr style=\"text-align: right;\">\n",
       "      <th></th>\n",
       "      <th>Sentiment</th>\n",
       "      <th>Sentence</th>\n",
       "    </tr>\n",
       "  </thead>\n",
       "  <tbody>\n",
       "    <tr>\n",
       "      <th>0</th>\n",
       "      <td>0</td>\n",
       "      <td>According to Gran , the company has no plans t...</td>\n",
       "    </tr>\n",
       "    <tr>\n",
       "      <th>1</th>\n",
       "      <td>1</td>\n",
       "      <td>For the last quarter of 2010 , Componenta 's n...</td>\n",
       "    </tr>\n",
       "    <tr>\n",
       "      <th>2</th>\n",
       "      <td>1</td>\n",
       "      <td>In the third quarter of 2010 , net sales incre...</td>\n",
       "    </tr>\n",
       "    <tr>\n",
       "      <th>3</th>\n",
       "      <td>1</td>\n",
       "      <td>Operating profit rose to EUR 13.1 mn from EUR ...</td>\n",
       "    </tr>\n",
       "    <tr>\n",
       "      <th>4</th>\n",
       "      <td>1</td>\n",
       "      <td>Operating profit totalled EUR 21.1 mn , up fro...</td>\n",
       "    </tr>\n",
       "  </tbody>\n",
       "</table>\n",
       "</div>"
      ],
      "text/plain": [
       "   Sentiment                                           Sentence\n",
       "0          0  According to Gran , the company has no plans t...\n",
       "1          1  For the last quarter of 2010 , Componenta 's n...\n",
       "2          1  In the third quarter of 2010 , net sales incre...\n",
       "3          1  Operating profit rose to EUR 13.1 mn from EUR ...\n",
       "4          1  Operating profit totalled EUR 21.1 mn , up fro..."
      ]
     },
     "execution_count": 19,
     "metadata": {},
     "output_type": "execute_result"
    }
   ],
   "source": [
    "sentiment.head()"
   ]
  },
  {
   "cell_type": "code",
   "execution_count": 20,
   "id": "706a8c29",
   "metadata": {},
   "outputs": [],
   "source": [
    "\n",
    "#Converting the text into tokens using Tokenization\n",
    "\n",
    "from nltk.stem import WordNetLemmatizer\n",
    "from nltk.corpus import wordnet \n",
    "\n",
    "wordnet_lemmatizer = WordNetLemmatizer()\n",
    "stemmer = PorterStemmer()\n",
    "stopwords = set(w.rstrip() for w in open(r'C:\\Users\\91858\\Desktop\\ALL FILES\\Sentiment_Stock_data.csv', encoding='utf-8'))\n",
    "\n",
    "def tok_lem_stop(Text):\n",
    "    text = text.replace(\"\\n\", \" \")\n",
    "    tokens = nltk.tokenize.word_tokenize(text.lower()) # split string into words (tokens)\n",
    "    tokens = [t for t in tokens if t.isalpha()] # keep strings with only alphabets\n",
    "    tokens = [wordnet_lemmatizer.lemmatize(t) for t in tokens] # put words into base form\n",
    "    tokens = [stemmer.stem(t) for t in tokens]\n",
    "    tokens = [t for t in tokens if len(t) > 2] # removing short words, not useful \n",
    "    tokens = [t for t in tokens if t not in stopwords] # remove stopwords\n",
    "    cleanedText = \" \".join(tokens)\n",
    "    return cleanedText\n",
    "\n",
    "def Cleaning(text):\n",
    "    data = text.copy()\n",
    "    data[\"Text\"] = data[\"Text\"].apply(tokenize_lemma_stopwords)\n",
    "    return data\n",
    "    "
   ]
  },
  {
   "cell_type": "code",
   "execution_count": 20,
   "id": "3b1b3b1c",
   "metadata": {},
   "outputs": [
    {
     "data": {
      "text/html": [
       "<div>\n",
       "<style scoped>\n",
       "    .dataframe tbody tr th:only-of-type {\n",
       "        vertical-align: middle;\n",
       "    }\n",
       "\n",
       "    .dataframe tbody tr th {\n",
       "        vertical-align: top;\n",
       "    }\n",
       "\n",
       "    .dataframe thead th {\n",
       "        text-align: right;\n",
       "    }\n",
       "</style>\n",
       "<table border=\"1\" class=\"dataframe\">\n",
       "  <thead>\n",
       "    <tr style=\"text-align: right;\">\n",
       "      <th></th>\n",
       "      <th>Sentiment</th>\n",
       "      <th>Sentence</th>\n",
       "    </tr>\n",
       "  </thead>\n",
       "  <tbody>\n",
       "    <tr>\n",
       "      <th>0</th>\n",
       "      <td>0</td>\n",
       "      <td>According to Gran , the company has no plans t...</td>\n",
       "    </tr>\n",
       "    <tr>\n",
       "      <th>1</th>\n",
       "      <td>1</td>\n",
       "      <td>For the last quarter of 2010 , Componenta 's n...</td>\n",
       "    </tr>\n",
       "    <tr>\n",
       "      <th>2</th>\n",
       "      <td>1</td>\n",
       "      <td>In the third quarter of 2010 , net sales incre...</td>\n",
       "    </tr>\n",
       "    <tr>\n",
       "      <th>3</th>\n",
       "      <td>1</td>\n",
       "      <td>Operating profit rose to EUR 13.1 mn from EUR ...</td>\n",
       "    </tr>\n",
       "    <tr>\n",
       "      <th>4</th>\n",
       "      <td>1</td>\n",
       "      <td>Operating profit totalled EUR 21.1 mn , up fro...</td>\n",
       "    </tr>\n",
       "    <tr>\n",
       "      <th>...</th>\n",
       "      <td>...</td>\n",
       "      <td>...</td>\n",
       "    </tr>\n",
       "    <tr>\n",
       "      <th>19995</th>\n",
       "      <td>1</td>\n",
       "      <td>Leeds and Rangers could meet</td>\n",
       "    </tr>\n",
       "    <tr>\n",
       "      <th>19996</th>\n",
       "      <td>1</td>\n",
       "      <td>Worthington Cup worthy</td>\n",
       "    </tr>\n",
       "    <tr>\n",
       "      <th>19997</th>\n",
       "      <td>1</td>\n",
       "      <td>Bruce in at Birmingham</td>\n",
       "    </tr>\n",
       "    <tr>\n",
       "      <th>19998</th>\n",
       "      <td>1</td>\n",
       "      <td>Cardiff chase Gloucester's Saint-Andre</td>\n",
       "    </tr>\n",
       "    <tr>\n",
       "      <th>19999</th>\n",
       "      <td>1</td>\n",
       "      <td>Wizards conjure up team spirit</td>\n",
       "    </tr>\n",
       "  </tbody>\n",
       "</table>\n",
       "<p>20000 rows × 2 columns</p>\n",
       "</div>"
      ],
      "text/plain": [
       "       Sentiment                                           Sentence\n",
       "0              0  According to Gran , the company has no plans t...\n",
       "1              1  For the last quarter of 2010 , Componenta 's n...\n",
       "2              1  In the third quarter of 2010 , net sales incre...\n",
       "3              1  Operating profit rose to EUR 13.1 mn from EUR ...\n",
       "4              1  Operating profit totalled EUR 21.1 mn , up fro...\n",
       "...          ...                                                ...\n",
       "19995          1                       Leeds and Rangers could meet\n",
       "19996          1                             Worthington Cup worthy\n",
       "19997          1                             Bruce in at Birmingham\n",
       "19998          1             Cardiff chase Gloucester's Saint-Andre\n",
       "19999          1                     Wizards conjure up team spirit\n",
       "\n",
       "[20000 rows x 2 columns]"
      ]
     },
     "execution_count": 20,
     "metadata": {},
     "output_type": "execute_result"
    }
   ],
   "source": [
    "sentiment"
   ]
  },
  {
   "cell_type": "code",
   "execution_count": 21,
   "id": "290812c1",
   "metadata": {},
   "outputs": [
    {
     "data": {
      "text/plain": [
       "0        According to Gran , the company has no plans t...\n",
       "1        For the last quarter of 2010 , Componenta 's n...\n",
       "2        In the third quarter of 2010 , net sales incre...\n",
       "3        Operating profit rose to EUR 13.1 mn from EUR ...\n",
       "4        Operating profit totalled EUR 21.1 mn , up fro...\n",
       "                               ...                        \n",
       "19995                         Leeds and Rangers could meet\n",
       "19996                               Worthington Cup worthy\n",
       "19997                               Bruce in at Birmingham\n",
       "19998               Cardiff chase Gloucester's Saint-Andre\n",
       "19999                       Wizards conjure up team spirit\n",
       "Name: Sentence, Length: 20000, dtype: object"
      ]
     },
     "execution_count": 21,
     "metadata": {},
     "output_type": "execute_result"
    }
   ],
   "source": [
    "corpus=sentiment['Sentence']\n",
    "corpus"
   ]
  },
  {
   "cell_type": "code",
   "execution_count": 22,
   "id": "9f3de0a7",
   "metadata": {},
   "outputs": [],
   "source": [
    "import time\n",
    "model_performance = pd.DataFrame(columns=['Accuracy','Recall','Precision','F1-Score','time to train','time to predict','total time'])"
   ]
  },
  {
   "cell_type": "code",
   "execution_count": 23,
   "id": "4aeb2d34",
   "metadata": {
    "scrolled": true
   },
   "outputs": [
    {
     "data": {
      "text/html": [
       "<style>#sk-container-id-1 {color: black;background-color: white;}#sk-container-id-1 pre{padding: 0;}#sk-container-id-1 div.sk-toggleable {background-color: white;}#sk-container-id-1 label.sk-toggleable__label {cursor: pointer;display: block;width: 100%;margin-bottom: 0;padding: 0.3em;box-sizing: border-box;text-align: center;}#sk-container-id-1 label.sk-toggleable__label-arrow:before {content: \"▸\";float: left;margin-right: 0.25em;color: #696969;}#sk-container-id-1 label.sk-toggleable__label-arrow:hover:before {color: black;}#sk-container-id-1 div.sk-estimator:hover label.sk-toggleable__label-arrow:before {color: black;}#sk-container-id-1 div.sk-toggleable__content {max-height: 0;max-width: 0;overflow: hidden;text-align: left;background-color: #f0f8ff;}#sk-container-id-1 div.sk-toggleable__content pre {margin: 0.2em;color: black;border-radius: 0.25em;background-color: #f0f8ff;}#sk-container-id-1 input.sk-toggleable__control:checked~div.sk-toggleable__content {max-height: 200px;max-width: 100%;overflow: auto;}#sk-container-id-1 input.sk-toggleable__control:checked~label.sk-toggleable__label-arrow:before {content: \"▾\";}#sk-container-id-1 div.sk-estimator input.sk-toggleable__control:checked~label.sk-toggleable__label {background-color: #d4ebff;}#sk-container-id-1 div.sk-label input.sk-toggleable__control:checked~label.sk-toggleable__label {background-color: #d4ebff;}#sk-container-id-1 input.sk-hidden--visually {border: 0;clip: rect(1px 1px 1px 1px);clip: rect(1px, 1px, 1px, 1px);height: 1px;margin: -1px;overflow: hidden;padding: 0;position: absolute;width: 1px;}#sk-container-id-1 div.sk-estimator {font-family: monospace;background-color: #f0f8ff;border: 1px dotted black;border-radius: 0.25em;box-sizing: border-box;margin-bottom: 0.5em;}#sk-container-id-1 div.sk-estimator:hover {background-color: #d4ebff;}#sk-container-id-1 div.sk-parallel-item::after {content: \"\";width: 100%;border-bottom: 1px solid gray;flex-grow: 1;}#sk-container-id-1 div.sk-label:hover label.sk-toggleable__label {background-color: #d4ebff;}#sk-container-id-1 div.sk-serial::before {content: \"\";position: absolute;border-left: 1px solid gray;box-sizing: border-box;top: 0;bottom: 0;left: 50%;z-index: 0;}#sk-container-id-1 div.sk-serial {display: flex;flex-direction: column;align-items: center;background-color: white;padding-right: 0.2em;padding-left: 0.2em;position: relative;}#sk-container-id-1 div.sk-item {position: relative;z-index: 1;}#sk-container-id-1 div.sk-parallel {display: flex;align-items: stretch;justify-content: center;background-color: white;position: relative;}#sk-container-id-1 div.sk-item::before, #sk-container-id-1 div.sk-parallel-item::before {content: \"\";position: absolute;border-left: 1px solid gray;box-sizing: border-box;top: 0;bottom: 0;left: 50%;z-index: -1;}#sk-container-id-1 div.sk-parallel-item {display: flex;flex-direction: column;z-index: 1;position: relative;background-color: white;}#sk-container-id-1 div.sk-parallel-item:first-child::after {align-self: flex-end;width: 50%;}#sk-container-id-1 div.sk-parallel-item:last-child::after {align-self: flex-start;width: 50%;}#sk-container-id-1 div.sk-parallel-item:only-child::after {width: 0;}#sk-container-id-1 div.sk-dashed-wrapped {border: 1px dashed gray;margin: 0 0.4em 0.5em 0.4em;box-sizing: border-box;padding-bottom: 0.4em;background-color: white;}#sk-container-id-1 div.sk-label label {font-family: monospace;font-weight: bold;display: inline-block;line-height: 1.2em;}#sk-container-id-1 div.sk-label-container {text-align: center;}#sk-container-id-1 div.sk-container {/* jupyter's `normalize.less` sets `[hidden] { display: none; }` but bootstrap.min.css set `[hidden] { display: none !important; }` so we also need the `!important` here to be able to override the default hidden behavior on the sphinx rendered scikit-learn.org. See: https://github.com/scikit-learn/scikit-learn/issues/21755 */display: inline-block !important;position: relative;}#sk-container-id-1 div.sk-text-repr-fallback {display: none;}</style><div id=\"sk-container-id-1\" class=\"sk-top-container\"><div class=\"sk-text-repr-fallback\"><pre>CountVectorizer(binary=True, max_features=2000, ngram_range=(1, 2))</pre><b>In a Jupyter environment, please rerun this cell to show the HTML representation or trust the notebook. <br />On GitHub, the HTML representation is unable to render, please try loading this page with nbviewer.org.</b></div><div class=\"sk-container\" hidden><div class=\"sk-item\"><div class=\"sk-estimator sk-toggleable\"><input class=\"sk-toggleable__control sk-hidden--visually\" id=\"sk-estimator-id-1\" type=\"checkbox\" checked><label for=\"sk-estimator-id-1\" class=\"sk-toggleable__label sk-toggleable__label-arrow\">CountVectorizer</label><div class=\"sk-toggleable__content\"><pre>CountVectorizer(binary=True, max_features=2000, ngram_range=(1, 2))</pre></div></div></div></div></div>"
      ],
      "text/plain": [
       "CountVectorizer(binary=True, max_features=2000, ngram_range=(1, 2))"
      ]
     },
     "execution_count": 23,
     "metadata": {},
     "output_type": "execute_result"
    }
   ],
   "source": [
    "from sklearn.feature_extraction.text import CountVectorizer\n",
    "cv = CountVectorizer(max_features=2000,binary=True,ngram_range=(1,2))\n",
    "X = cv.fit_transform(corpus).toarray()   #transformed the text into vectors\n",
    "cv"
   ]
  },
  {
   "cell_type": "code",
   "execution_count": 24,
   "id": "a3474249",
   "metadata": {},
   "outputs": [],
   "source": [
    "y = pd.get_dummies(sentiment['Sentiment'])     #all the categorical data (YES and NO) is conveterd into 0's and 1's\n",
    "y=y.iloc[:,1].values"
   ]
  },
  {
   "cell_type": "code",
   "execution_count": 25,
   "id": "9270ec0d",
   "metadata": {},
   "outputs": [],
   "source": [
    "from sklearn.model_selection import train_test_split\n",
    "X_train,X_test,y_train,y_test=train_test_split(X, y, test_size=0.20,random_state=0)"
   ]
  },
  {
   "cell_type": "code",
   "execution_count": 26,
   "id": "84224214",
   "metadata": {},
   "outputs": [
    {
     "data": {
      "text/html": [
       "<style>#sk-container-id-2 {color: black;background-color: white;}#sk-container-id-2 pre{padding: 0;}#sk-container-id-2 div.sk-toggleable {background-color: white;}#sk-container-id-2 label.sk-toggleable__label {cursor: pointer;display: block;width: 100%;margin-bottom: 0;padding: 0.3em;box-sizing: border-box;text-align: center;}#sk-container-id-2 label.sk-toggleable__label-arrow:before {content: \"▸\";float: left;margin-right: 0.25em;color: #696969;}#sk-container-id-2 label.sk-toggleable__label-arrow:hover:before {color: black;}#sk-container-id-2 div.sk-estimator:hover label.sk-toggleable__label-arrow:before {color: black;}#sk-container-id-2 div.sk-toggleable__content {max-height: 0;max-width: 0;overflow: hidden;text-align: left;background-color: #f0f8ff;}#sk-container-id-2 div.sk-toggleable__content pre {margin: 0.2em;color: black;border-radius: 0.25em;background-color: #f0f8ff;}#sk-container-id-2 input.sk-toggleable__control:checked~div.sk-toggleable__content {max-height: 200px;max-width: 100%;overflow: auto;}#sk-container-id-2 input.sk-toggleable__control:checked~label.sk-toggleable__label-arrow:before {content: \"▾\";}#sk-container-id-2 div.sk-estimator input.sk-toggleable__control:checked~label.sk-toggleable__label {background-color: #d4ebff;}#sk-container-id-2 div.sk-label input.sk-toggleable__control:checked~label.sk-toggleable__label {background-color: #d4ebff;}#sk-container-id-2 input.sk-hidden--visually {border: 0;clip: rect(1px 1px 1px 1px);clip: rect(1px, 1px, 1px, 1px);height: 1px;margin: -1px;overflow: hidden;padding: 0;position: absolute;width: 1px;}#sk-container-id-2 div.sk-estimator {font-family: monospace;background-color: #f0f8ff;border: 1px dotted black;border-radius: 0.25em;box-sizing: border-box;margin-bottom: 0.5em;}#sk-container-id-2 div.sk-estimator:hover {background-color: #d4ebff;}#sk-container-id-2 div.sk-parallel-item::after {content: \"\";width: 100%;border-bottom: 1px solid gray;flex-grow: 1;}#sk-container-id-2 div.sk-label:hover label.sk-toggleable__label {background-color: #d4ebff;}#sk-container-id-2 div.sk-serial::before {content: \"\";position: absolute;border-left: 1px solid gray;box-sizing: border-box;top: 0;bottom: 0;left: 50%;z-index: 0;}#sk-container-id-2 div.sk-serial {display: flex;flex-direction: column;align-items: center;background-color: white;padding-right: 0.2em;padding-left: 0.2em;position: relative;}#sk-container-id-2 div.sk-item {position: relative;z-index: 1;}#sk-container-id-2 div.sk-parallel {display: flex;align-items: stretch;justify-content: center;background-color: white;position: relative;}#sk-container-id-2 div.sk-item::before, #sk-container-id-2 div.sk-parallel-item::before {content: \"\";position: absolute;border-left: 1px solid gray;box-sizing: border-box;top: 0;bottom: 0;left: 50%;z-index: -1;}#sk-container-id-2 div.sk-parallel-item {display: flex;flex-direction: column;z-index: 1;position: relative;background-color: white;}#sk-container-id-2 div.sk-parallel-item:first-child::after {align-self: flex-end;width: 50%;}#sk-container-id-2 div.sk-parallel-item:last-child::after {align-self: flex-start;width: 50%;}#sk-container-id-2 div.sk-parallel-item:only-child::after {width: 0;}#sk-container-id-2 div.sk-dashed-wrapped {border: 1px dashed gray;margin: 0 0.4em 0.5em 0.4em;box-sizing: border-box;padding-bottom: 0.4em;background-color: white;}#sk-container-id-2 div.sk-label label {font-family: monospace;font-weight: bold;display: inline-block;line-height: 1.2em;}#sk-container-id-2 div.sk-label-container {text-align: center;}#sk-container-id-2 div.sk-container {/* jupyter's `normalize.less` sets `[hidden] { display: none; }` but bootstrap.min.css set `[hidden] { display: none !important; }` so we also need the `!important` here to be able to override the default hidden behavior on the sphinx rendered scikit-learn.org. See: https://github.com/scikit-learn/scikit-learn/issues/21755 */display: inline-block !important;position: relative;}#sk-container-id-2 div.sk-text-repr-fallback {display: none;}</style><div id=\"sk-container-id-2\" class=\"sk-top-container\"><div class=\"sk-text-repr-fallback\"><pre>TfidfVectorizer(max_features=2000, ngram_range=(1, 2))</pre><b>In a Jupyter environment, please rerun this cell to show the HTML representation or trust the notebook. <br />On GitHub, the HTML representation is unable to render, please try loading this page with nbviewer.org.</b></div><div class=\"sk-container\" hidden><div class=\"sk-item\"><div class=\"sk-estimator sk-toggleable\"><input class=\"sk-toggleable__control sk-hidden--visually\" id=\"sk-estimator-id-2\" type=\"checkbox\" checked><label for=\"sk-estimator-id-2\" class=\"sk-toggleable__label sk-toggleable__label-arrow\">TfidfVectorizer</label><div class=\"sk-toggleable__content\"><pre>TfidfVectorizer(max_features=2000, ngram_range=(1, 2))</pre></div></div></div></div></div>"
      ],
      "text/plain": [
       "TfidfVectorizer(max_features=2000, ngram_range=(1, 2))"
      ]
     },
     "execution_count": 26,
     "metadata": {},
     "output_type": "execute_result"
    }
   ],
   "source": [
    "#TFIDF MODEL\n",
    "\n",
    "tfidf =TfidfVectorizer(max_features=2000,ngram_range=(1,2))\n",
    "X =tfidf.fit_transform(corpus).toarray()\n",
    "tfidf"
   ]
  },
  {
   "cell_type": "code",
   "execution_count": 27,
   "id": "9fba3fee",
   "metadata": {},
   "outputs": [],
   "source": [
    "X_train, X_test, y_train, y_test = train_test_split(X, y, test_size = 0.20, random_state=0)"
   ]
  },
  {
   "cell_type": "code",
   "execution_count": 28,
   "id": "54f43117",
   "metadata": {},
   "outputs": [
    {
     "data": {
      "text/plain": [
       "((20000, 2000), (20000,))"
      ]
     },
     "execution_count": 28,
     "metadata": {},
     "output_type": "execute_result"
    }
   ],
   "source": [
    "X.shape,y.shape"
   ]
  },
  {
   "cell_type": "code",
   "execution_count": 29,
   "id": "cf5d098c",
   "metadata": {},
   "outputs": [],
   "source": [
    "from sklearn.metrics import confusion_matrix, classification_report\n",
    "from sklearn.metrics import roc_curve\n",
    "from sklearn.metrics import roc_auc_score"
   ]
  },
  {
   "cell_type": "code",
   "execution_count": 30,
   "id": "bf2bc170",
   "metadata": {},
   "outputs": [],
   "source": [
    "from sklearn.metrics import f1_score, precision_score, recall_score, accuracy_score\n",
    "from sklearn.metrics import plot_confusion_matrix # will plot the confusion matrix\n",
    "import time\n",
    "model_performance = pd.DataFrame(columns=['Accuracy','Recall','Precision','F1-Score','time to train','time to predict','total time'])"
   ]
  },
  {
   "cell_type": "markdown",
   "id": "038a7cb0",
   "metadata": {},
   "source": [
    "### Naive Bayes multinomial NB  --> 62%"
   ]
  },
  {
   "cell_type": "code",
   "execution_count": 31,
   "id": "a5dbba66",
   "metadata": {},
   "outputs": [
    {
     "name": "stdout",
     "output_type": "stream",
     "text": [
      "CPU times: total: 31.2 ms\n",
      "Wall time: 77.5 ms\n"
     ]
    }
   ],
   "source": [
    "%%time\n",
    "from sklearn.naive_bayes import MultinomialNB\n",
    "start = time.time()\n",
    "from sklearn.metrics import accuracy_score,classification_report\n",
    "model_1 = MultinomialNB().fit(X_train, y_train)\n",
    "end_train = time.time()\n",
    "y_pred1= model_1.predict(X_test)\n",
    "end_predict = time.time()"
   ]
  },
  {
   "cell_type": "code",
   "execution_count": 32,
   "id": "3f73cce3",
   "metadata": {},
   "outputs": [
    {
     "name": "stdout",
     "output_type": "stream",
     "text": [
      "Accuracy: 62.45%\n",
      "Recall: 62.45%\n",
      "Precision: 61.87%\n",
      "F1-Score: 61.87%\n",
      "time to train: 0.06 s\n",
      "time to predict: 0.02 s\n",
      "total: 0.08 s\n"
     ]
    }
   ],
   "source": [
    "from sklearn.metrics import f1_score, precision_score, recall_score, classification_report, confusion_matrix,accuracy_score\n",
    "accuracy = accuracy_score(y_test, y_pred1)\n",
    "recall = recall_score(y_test, y_pred1, average='weighted')\n",
    "precision = precision_score(y_test, y_pred1, average='weighted')\n",
    "f1s = f1_score(y_test, y_pred1, average='weighted')\n",
    "\n",
    "print(\"Accuracy: \"+ \"{:.2%}\".format(accuracy))\n",
    "print(\"Recall: \"+ \"{:.2%}\".format(recall))\n",
    "print(\"Precision: \"+ \"{:.2%}\".format(precision))\n",
    "print(\"F1-Score: \"+ \"{:.2%}\".format(f1s))\n",
    "print(\"time to train: \"+ \"{:.2f}\".format(end_train-start)+\" s\")\n",
    "print(\"time to predict: \"+\"{:.2f}\".format(end_predict-end_train)+\" s\")\n",
    "print(\"total: \"+\"{:.2f}\".format(end_predict-start)+\" s\")\n",
    "model_performance.loc['Naive Bayes'] = [accuracy, recall, precision, f1s,end_train-start,end_predict-end_train,end_predict-start]"
   ]
  },
  {
   "cell_type": "code",
   "execution_count": 33,
   "id": "0bc0d7c1",
   "metadata": {
    "scrolled": false
   },
   "outputs": [
    {
     "data": {
      "image/png": "[encoded data removed]",
      "text/plain": [
       "<Figure size 500x500 with 2 Axes>"
      ]
     },
     "metadata": {},
     "output_type": "display_data"
    }
   ],
   "source": [
    "plt.rcParams['figure.figsize']=5,5 \n",
    "sns.set_style(\"white\")\n",
    "plot_confusion_matrix(model_1, X_test, y_test, cmap=plt.cm.Blues)  \n",
    "plt.show()"
   ]
  },
  {
   "cell_type": "markdown",
   "id": "f8614511",
   "metadata": {},
   "source": [
    "### XGBoost --> 66%"
   ]
  },
  {
   "cell_type": "code",
   "execution_count": 34,
   "id": "0c02021e",
   "metadata": {},
   "outputs": [
    {
     "name": "stdout",
     "output_type": "stream",
     "text": [
      "CPU times: total: 2min 43s\n",
      "Wall time: 12.3 s\n"
     ]
    }
   ],
   "source": [
    "%%time\n",
    "from xgboost import XGBClassifier\n",
    "start = time.time()\n",
    "from sklearn.metrics import accuracy_score,classification_report\n",
    "model_3 = XGBClassifier().fit(X_train, y_train)\n",
    "end_train = time.time()\n",
    "y_pred3= model_3.predict(X_test)\n",
    "end_predict = time.time()"
   ]
  },
  {
   "cell_type": "code",
   "execution_count": 35,
   "id": "38f21568",
   "metadata": {
    "scrolled": false
   },
   "outputs": [
    {
     "name": "stdout",
     "output_type": "stream",
     "text": [
      "Accuracy: 66.15%\n",
      "Recall: 66.15%\n",
      "Precision: 66.77%\n",
      "F1-Score: 63.62%\n",
      "time to train: 12.01 s\n",
      "time to predict: 0.03 s\n",
      "total: 12.04 s\n"
     ]
    }
   ],
   "source": [
    "from sklearn.metrics import f1_score, precision_score, recall_score, classification_report, confusion_matrix,accuracy_score\n",
    "accuracy = accuracy_score(y_test, y_pred3)\n",
    "recall = recall_score(y_test, y_pred3, average='weighted')\n",
    "precision = precision_score(y_test, y_pred3, average='weighted')\n",
    "f1s = f1_score(y_test, y_pred3, average='weighted')\n",
    "\n",
    "print(\"Accuracy: \"+ \"{:.2%}\".format(accuracy))\n",
    "print(\"Recall: \"+ \"{:.2%}\".format(recall))\n",
    "print(\"Precision: \"+ \"{:.2%}\".format(precision))\n",
    "print(\"F1-Score: \"+ \"{:.2%}\".format(f1s))\n",
    "print(\"time to train: \"+ \"{:.2f}\".format(end_train-start)+\" s\")\n",
    "print(\"time to predict: \"+\"{:.2f}\".format(end_predict-end_train)+\" s\")\n",
    "print(\"total: \"+\"{:.2f}\".format(end_predict-start)+\" s\")\n",
    "model_performance.loc['XG-Boost'] = [accuracy, recall, precision, f1s,end_train-start,end_predict-end_train,end_predict-start]"
   ]
  },
  {
   "cell_type": "code",
   "execution_count": 36,
   "id": "70f293bb",
   "metadata": {
    "scrolled": false
   },
   "outputs": [
    {
     "data": {
      "image/png": "[encoded data removed]",
      "text/plain": [
       "<Figure size 500x500 with 2 Axes>"
      ]
     },
     "metadata": {},
     "output_type": "display_data"
    }
   ],
   "source": [
    "plt.rcParams['figure.figsize']=5,5 \n",
    "sns.set_style(\"white\")\n",
    "plot_confusion_matrix(model_3, X_test, y_test, cmap=plt.cm.Blues)  \n",
    "plt.show()"
   ]
  },
  {
   "cell_type": "markdown",
   "id": "d1e0b3ed",
   "metadata": {},
   "source": [
    "### CatBoost --> 65%"
   ]
  },
  {
   "cell_type": "code",
   "execution_count": 37,
   "id": "ceddb0d8",
   "metadata": {},
   "outputs": [
    {
     "name": "stdout",
     "output_type": "stream",
     "text": [
      "Learning rate set to 0.033658\n",
      "0:\tlearn: 0.6903992\ttotal: 141ms\tremaining: 2m 20s\n",
      "1:\tlearn: 0.6881001\ttotal: 175ms\tremaining: 1m 27s\n",
      "2:\tlearn: 0.6856880\ttotal: 211ms\tremaining: 1m 10s\n",
      "3:\tlearn: 0.6837329\ttotal: 244ms\tremaining: 1m\n",
      "4:\tlearn: 0.6814035\ttotal: 279ms\tremaining: 55.4s\n",
      "5:\tlearn: 0.6795634\ttotal: 314ms\tremaining: 52s\n",
      "6:\tlearn: 0.6774589\ttotal: 358ms\tremaining: 50.9s\n",
      "7:\tlearn: 0.6756742\ttotal: 401ms\tremaining: 49.7s\n",
      "8:\tlearn: 0.6740048\ttotal: 440ms\tremaining: 48.5s\n",
      "9:\tlearn: 0.6723098\ttotal: 479ms\tremaining: 47.5s\n",
      "10:\tlearn: 0.6706645\ttotal: 517ms\tremaining: 46.5s\n",
      "11:\tlearn: 0.6689578\ttotal: 552ms\tremaining: 45.5s\n",
      "12:\tlearn: 0.6679234\ttotal: 589ms\tremaining: 44.7s\n",
      "13:\tlearn: 0.6665718\ttotal: 625ms\tremaining: 44s\n",
      "14:\tlearn: 0.6652359\ttotal: 666ms\tremaining: 43.8s\n",
      "15:\tlearn: 0.6638801\ttotal: 702ms\tremaining: 43.2s\n",
      "16:\tlearn: 0.6629614\ttotal: 740ms\tremaining: 42.8s\n",
      "17:\tlearn: 0.6617675\ttotal: 775ms\tremaining: 42.3s\n",
      "18:\tlearn: 0.6608963\ttotal: 809ms\tremaining: 41.8s\n",
      "19:\tlearn: 0.6596730\ttotal: 843ms\tremaining: 41.3s\n",
      "20:\tlearn: 0.6587455\ttotal: 878ms\tremaining: 40.9s\n",
      "21:\tlearn: 0.6576230\ttotal: 914ms\tremaining: 40.6s\n",
      "22:\tlearn: 0.6568027\ttotal: 951ms\tremaining: 40.4s\n",
      "23:\tlearn: 0.6558512\ttotal: 987ms\tremaining: 40.1s\n",
      "24:\tlearn: 0.6549941\ttotal: 1.02s\tremaining: 39.9s\n",
      "25:\tlearn: 0.6541346\ttotal: 1.06s\tremaining: 39.9s\n",
      "26:\tlearn: 0.6531979\ttotal: 1.1s\tremaining: 39.6s\n",
      "27:\tlearn: 0.6525923\ttotal: 1.13s\tremaining: 39.4s\n",
      "28:\tlearn: 0.6519912\ttotal: 1.17s\tremaining: 39s\n",
      "29:\tlearn: 0.6512992\ttotal: 1.2s\tremaining: 38.8s\n",
      "30:\tlearn: 0.6505746\ttotal: 1.23s\tremaining: 38.5s\n",
      "31:\tlearn: 0.6499602\ttotal: 1.26s\tremaining: 38.2s\n",
      "32:\tlearn: 0.6492842\ttotal: 1.3s\tremaining: 38s\n",
      "33:\tlearn: 0.6487684\ttotal: 1.33s\tremaining: 37.8s\n",
      "34:\tlearn: 0.6479441\ttotal: 1.36s\tremaining: 37.7s\n",
      "35:\tlearn: 0.6472777\ttotal: 1.4s\tremaining: 37.5s\n",
      "36:\tlearn: 0.6465640\ttotal: 1.43s\tremaining: 37.3s\n",
      "37:\tlearn: 0.6460071\ttotal: 1.47s\tremaining: 37.1s\n",
      "38:\tlearn: 0.6454718\ttotal: 1.5s\tremaining: 36.9s\n",
      "39:\tlearn: 0.6451209\ttotal: 1.53s\tremaining: 36.8s\n",
      "40:\tlearn: 0.6446318\ttotal: 1.56s\tremaining: 36.6s\n",
      "41:\tlearn: 0.6439268\ttotal: 1.6s\tremaining: 36.5s\n",
      "42:\tlearn: 0.6432509\ttotal: 1.63s\tremaining: 36.3s\n",
      "43:\tlearn: 0.6427080\ttotal: 1.67s\tremaining: 36.3s\n",
      "44:\tlearn: 0.6423296\ttotal: 1.71s\tremaining: 36.2s\n",
      "45:\tlearn: 0.6417793\ttotal: 1.74s\tremaining: 36.1s\n",
      "46:\tlearn: 0.6412945\ttotal: 1.77s\tremaining: 36s\n",
      "47:\tlearn: 0.6408315\ttotal: 1.81s\tremaining: 35.9s\n",
      "48:\tlearn: 0.6402578\ttotal: 1.84s\tremaining: 35.7s\n",
      "49:\tlearn: 0.6398501\ttotal: 1.87s\tremaining: 35.6s\n",
      "50:\tlearn: 0.6394640\ttotal: 1.91s\tremaining: 35.5s\n",
      "51:\tlearn: 0.6389024\ttotal: 1.94s\tremaining: 35.3s\n",
      "52:\tlearn: 0.6385005\ttotal: 1.97s\tremaining: 35.2s\n",
      "53:\tlearn: 0.6380561\ttotal: 2s\tremaining: 35.1s\n",
      "54:\tlearn: 0.6378441\ttotal: 2.04s\tremaining: 35s\n",
      "55:\tlearn: 0.6375943\ttotal: 2.07s\tremaining: 34.9s\n",
      "56:\tlearn: 0.6372714\ttotal: 2.1s\tremaining: 34.8s\n",
      "57:\tlearn: 0.6368018\ttotal: 2.14s\tremaining: 34.7s\n",
      "58:\tlearn: 0.6363225\ttotal: 2.17s\tremaining: 34.6s\n",
      "59:\tlearn: 0.6359185\ttotal: 2.2s\tremaining: 34.5s\n",
      "60:\tlearn: 0.6355693\ttotal: 2.24s\tremaining: 34.4s\n",
      "61:\tlearn: 0.6352313\ttotal: 2.27s\tremaining: 34.4s\n",
      "62:\tlearn: 0.6349870\ttotal: 2.31s\tremaining: 34.3s\n",
      "63:\tlearn: 0.6344845\ttotal: 2.34s\tremaining: 34.2s\n",
      "64:\tlearn: 0.6341193\ttotal: 2.37s\tremaining: 34.1s\n",
      "65:\tlearn: 0.6337372\ttotal: 2.41s\tremaining: 34.1s\n",
      "66:\tlearn: 0.6332982\ttotal: 2.44s\tremaining: 34s\n",
      "67:\tlearn: 0.6329019\ttotal: 2.48s\tremaining: 33.9s\n",
      "68:\tlearn: 0.6324850\ttotal: 2.51s\tremaining: 33.8s\n",
      "69:\tlearn: 0.6319962\ttotal: 2.54s\tremaining: 33.7s\n",
      "70:\tlearn: 0.6316622\ttotal: 2.57s\tremaining: 33.6s\n",
      "71:\tlearn: 0.6312566\ttotal: 2.6s\tremaining: 33.5s\n",
      "72:\tlearn: 0.6310104\ttotal: 2.63s\tremaining: 33.4s\n",
      "73:\tlearn: 0.6307875\ttotal: 2.66s\tremaining: 33.3s\n",
      "74:\tlearn: 0.6304356\ttotal: 2.69s\tremaining: 33.2s\n",
      "75:\tlearn: 0.6300577\ttotal: 2.73s\tremaining: 33.1s\n",
      "76:\tlearn: 0.6297219\ttotal: 2.76s\tremaining: 33.1s\n",
      "77:\tlearn: 0.6294887\ttotal: 2.79s\tremaining: 33s\n",
      "78:\tlearn: 0.6291312\ttotal: 2.82s\tremaining: 32.9s\n",
      "79:\tlearn: 0.6288676\ttotal: 2.85s\tremaining: 32.8s\n",
      "80:\tlearn: 0.6285647\ttotal: 2.88s\tremaining: 32.7s\n",
      "81:\tlearn: 0.6282805\ttotal: 2.92s\tremaining: 32.7s\n",
      "82:\tlearn: 0.6280222\ttotal: 2.95s\tremaining: 32.6s\n",
      "83:\tlearn: 0.6277814\ttotal: 2.98s\tremaining: 32.5s\n",
      "84:\tlearn: 0.6274901\ttotal: 3.01s\tremaining: 32.4s\n",
      "85:\tlearn: 0.6272040\ttotal: 3.04s\tremaining: 32.3s\n",
      "86:\tlearn: 0.6269839\ttotal: 3.08s\tremaining: 32.3s\n",
      "87:\tlearn: 0.6265387\ttotal: 3.11s\tremaining: 32.2s\n",
      "88:\tlearn: 0.6262729\ttotal: 3.14s\tremaining: 32.2s\n",
      "89:\tlearn: 0.6259740\ttotal: 3.18s\tremaining: 32.1s\n",
      "90:\tlearn: 0.6256813\ttotal: 3.21s\tremaining: 32.1s\n",
      "91:\tlearn: 0.6254587\ttotal: 3.25s\tremaining: 32s\n",
      "92:\tlearn: 0.6252755\ttotal: 3.28s\tremaining: 32s\n",
      "93:\tlearn: 0.6248594\ttotal: 3.31s\tremaining: 31.9s\n",
      "94:\tlearn: 0.6246171\ttotal: 3.35s\tremaining: 31.9s\n",
      "95:\tlearn: 0.6243973\ttotal: 3.38s\tremaining: 31.8s\n",
      "96:\tlearn: 0.6240590\ttotal: 3.41s\tremaining: 31.8s\n",
      "97:\tlearn: 0.6237663\ttotal: 3.44s\tremaining: 31.7s\n",
      "98:\tlearn: 0.6234691\ttotal: 3.48s\tremaining: 31.6s\n",
      "99:\tlearn: 0.6232435\ttotal: 3.51s\tremaining: 31.6s\n",
      "100:\tlearn: 0.6229501\ttotal: 3.54s\tremaining: 31.5s\n",
      "101:\tlearn: 0.6227446\ttotal: 3.58s\tremaining: 31.5s\n",
      "102:\tlearn: 0.6223748\ttotal: 3.61s\tremaining: 31.4s\n",
      "103:\tlearn: 0.6221535\ttotal: 3.65s\tremaining: 31.4s\n",
      "104:\tlearn: 0.6218991\ttotal: 3.68s\tremaining: 31.4s\n",
      "105:\tlearn: 0.6216720\ttotal: 3.71s\tremaining: 31.3s\n",
      "106:\tlearn: 0.6214439\ttotal: 3.74s\tremaining: 31.2s\n",
      "107:\tlearn: 0.6212405\ttotal: 3.77s\tremaining: 31.2s\n",
      "108:\tlearn: 0.6209487\ttotal: 3.81s\tremaining: 31.1s\n",
      "109:\tlearn: 0.6206779\ttotal: 3.84s\tremaining: 31.1s\n",
      "110:\tlearn: 0.6204567\ttotal: 3.88s\tremaining: 31s\n",
      "111:\tlearn: 0.6202229\ttotal: 3.91s\tremaining: 31s\n",
      "112:\tlearn: 0.6199561\ttotal: 3.95s\tremaining: 31s\n",
      "113:\tlearn: 0.6196573\ttotal: 3.98s\tremaining: 31s\n",
      "114:\tlearn: 0.6194296\ttotal: 4.02s\tremaining: 30.9s\n",
      "115:\tlearn: 0.6192732\ttotal: 4.05s\tremaining: 30.9s\n",
      "116:\tlearn: 0.6189858\ttotal: 4.09s\tremaining: 30.9s\n",
      "117:\tlearn: 0.6188318\ttotal: 4.12s\tremaining: 30.8s\n",
      "118:\tlearn: 0.6186598\ttotal: 4.15s\tremaining: 30.8s\n",
      "119:\tlearn: 0.6185010\ttotal: 4.19s\tremaining: 30.7s\n",
      "120:\tlearn: 0.6181642\ttotal: 4.23s\tremaining: 30.7s\n",
      "121:\tlearn: 0.6178367\ttotal: 4.26s\tremaining: 30.7s\n",
      "122:\tlearn: 0.6176241\ttotal: 4.3s\tremaining: 30.6s\n",
      "123:\tlearn: 0.6174925\ttotal: 4.34s\tremaining: 30.6s\n",
      "124:\tlearn: 0.6173103\ttotal: 4.37s\tremaining: 30.6s\n",
      "125:\tlearn: 0.6170917\ttotal: 4.41s\tremaining: 30.6s\n",
      "126:\tlearn: 0.6169170\ttotal: 4.44s\tremaining: 30.5s\n",
      "127:\tlearn: 0.6165435\ttotal: 4.48s\tremaining: 30.5s\n",
      "128:\tlearn: 0.6163834\ttotal: 4.51s\tremaining: 30.5s\n",
      "129:\tlearn: 0.6162221\ttotal: 4.55s\tremaining: 30.4s\n",
      "130:\tlearn: 0.6159851\ttotal: 4.58s\tremaining: 30.4s\n",
      "131:\tlearn: 0.6158305\ttotal: 4.62s\tremaining: 30.4s\n",
      "132:\tlearn: 0.6156535\ttotal: 4.65s\tremaining: 30.3s\n",
      "133:\tlearn: 0.6154159\ttotal: 4.68s\tremaining: 30.3s\n",
      "134:\tlearn: 0.6151045\ttotal: 4.71s\tremaining: 30.2s\n",
      "135:\tlearn: 0.6149444\ttotal: 4.75s\tremaining: 30.1s\n",
      "136:\tlearn: 0.6147596\ttotal: 4.78s\tremaining: 30.1s\n",
      "137:\tlearn: 0.6145627\ttotal: 4.81s\tremaining: 30s\n",
      "138:\tlearn: 0.6144072\ttotal: 4.84s\tremaining: 30s\n",
      "139:\tlearn: 0.6142443\ttotal: 4.87s\tremaining: 29.9s\n",
      "140:\tlearn: 0.6141568\ttotal: 4.9s\tremaining: 29.9s\n",
      "141:\tlearn: 0.6140296\ttotal: 4.93s\tremaining: 29.8s\n",
      "142:\tlearn: 0.6138805\ttotal: 4.96s\tremaining: 29.8s\n",
      "143:\tlearn: 0.6136878\ttotal: 4.99s\tremaining: 29.7s\n",
      "144:\tlearn: 0.6134473\ttotal: 5.02s\tremaining: 29.6s\n",
      "145:\tlearn: 0.6131805\ttotal: 5.05s\tremaining: 29.6s\n",
      "146:\tlearn: 0.6129417\ttotal: 5.08s\tremaining: 29.5s\n",
      "147:\tlearn: 0.6127890\ttotal: 5.11s\tremaining: 29.4s\n",
      "148:\tlearn: 0.6126757\ttotal: 5.14s\tremaining: 29.4s\n",
      "149:\tlearn: 0.6125899\ttotal: 5.17s\tremaining: 29.3s\n",
      "150:\tlearn: 0.6124406\ttotal: 5.2s\tremaining: 29.3s\n",
      "151:\tlearn: 0.6122583\ttotal: 5.23s\tremaining: 29.2s\n",
      "152:\tlearn: 0.6121035\ttotal: 5.26s\tremaining: 29.1s\n",
      "153:\tlearn: 0.6119690\ttotal: 5.29s\tremaining: 29.1s\n",
      "154:\tlearn: 0.6118280\ttotal: 5.33s\tremaining: 29s\n",
      "155:\tlearn: 0.6116848\ttotal: 5.36s\tremaining: 29s\n",
      "156:\tlearn: 0.6114796\ttotal: 5.38s\tremaining: 28.9s\n",
      "157:\tlearn: 0.6113464\ttotal: 5.41s\tremaining: 28.9s\n",
      "158:\tlearn: 0.6111834\ttotal: 5.44s\tremaining: 28.8s\n",
      "159:\tlearn: 0.6110386\ttotal: 5.47s\tremaining: 28.7s\n",
      "160:\tlearn: 0.6108208\ttotal: 5.5s\tremaining: 28.7s\n",
      "161:\tlearn: 0.6106846\ttotal: 5.54s\tremaining: 28.6s\n",
      "162:\tlearn: 0.6105661\ttotal: 5.57s\tremaining: 28.6s\n",
      "163:\tlearn: 0.6103918\ttotal: 5.6s\tremaining: 28.5s\n",
      "164:\tlearn: 0.6102562\ttotal: 5.63s\tremaining: 28.5s\n",
      "165:\tlearn: 0.6100910\ttotal: 5.65s\tremaining: 28.4s\n",
      "166:\tlearn: 0.6099148\ttotal: 5.69s\tremaining: 28.4s\n"
     ]
    },
    {
     "name": "stdout",
     "output_type": "stream",
     "text": [
      "167:\tlearn: 0.6097501\ttotal: 5.72s\tremaining: 28.3s\n",
      "168:\tlearn: 0.6095294\ttotal: 5.75s\tremaining: 28.3s\n",
      "169:\tlearn: 0.6094067\ttotal: 5.78s\tremaining: 28.2s\n",
      "170:\tlearn: 0.6092506\ttotal: 5.81s\tremaining: 28.1s\n",
      "171:\tlearn: 0.6090653\ttotal: 5.84s\tremaining: 28.1s\n",
      "172:\tlearn: 0.6089623\ttotal: 5.87s\tremaining: 28s\n",
      "173:\tlearn: 0.6086928\ttotal: 5.9s\tremaining: 28s\n",
      "174:\tlearn: 0.6084887\ttotal: 5.93s\tremaining: 27.9s\n",
      "175:\tlearn: 0.6083019\ttotal: 5.96s\tremaining: 27.9s\n",
      "176:\tlearn: 0.6080381\ttotal: 5.99s\tremaining: 27.8s\n",
      "177:\tlearn: 0.6078919\ttotal: 6.02s\tremaining: 27.8s\n",
      "178:\tlearn: 0.6077785\ttotal: 6.05s\tremaining: 27.7s\n",
      "179:\tlearn: 0.6076587\ttotal: 6.08s\tremaining: 27.7s\n",
      "180:\tlearn: 0.6075041\ttotal: 6.11s\tremaining: 27.6s\n",
      "181:\tlearn: 0.6073671\ttotal: 6.14s\tremaining: 27.6s\n",
      "182:\tlearn: 0.6072162\ttotal: 6.17s\tremaining: 27.5s\n",
      "183:\tlearn: 0.6070811\ttotal: 6.2s\tremaining: 27.5s\n",
      "184:\tlearn: 0.6068971\ttotal: 6.23s\tremaining: 27.4s\n",
      "185:\tlearn: 0.6067810\ttotal: 6.26s\tremaining: 27.4s\n",
      "186:\tlearn: 0.6066760\ttotal: 6.29s\tremaining: 27.3s\n",
      "187:\tlearn: 0.6065085\ttotal: 6.32s\tremaining: 27.3s\n",
      "188:\tlearn: 0.6064173\ttotal: 6.35s\tremaining: 27.2s\n",
      "189:\tlearn: 0.6062670\ttotal: 6.38s\tremaining: 27.2s\n",
      "190:\tlearn: 0.6061676\ttotal: 6.41s\tremaining: 27.1s\n",
      "191:\tlearn: 0.6060599\ttotal: 6.44s\tremaining: 27.1s\n",
      "192:\tlearn: 0.6059306\ttotal: 6.47s\tremaining: 27s\n",
      "193:\tlearn: 0.6058122\ttotal: 6.5s\tremaining: 27s\n",
      "194:\tlearn: 0.6056123\ttotal: 6.53s\tremaining: 26.9s\n",
      "195:\tlearn: 0.6054948\ttotal: 6.56s\tremaining: 26.9s\n",
      "196:\tlearn: 0.6053418\ttotal: 6.59s\tremaining: 26.8s\n",
      "197:\tlearn: 0.6052100\ttotal: 6.62s\tremaining: 26.8s\n",
      "198:\tlearn: 0.6050487\ttotal: 6.65s\tremaining: 26.8s\n",
      "199:\tlearn: 0.6048948\ttotal: 6.68s\tremaining: 26.7s\n",
      "200:\tlearn: 0.6047784\ttotal: 6.71s\tremaining: 26.7s\n",
      "201:\tlearn: 0.6045366\ttotal: 6.74s\tremaining: 26.6s\n",
      "202:\tlearn: 0.6043899\ttotal: 6.77s\tremaining: 26.6s\n",
      "203:\tlearn: 0.6041582\ttotal: 6.8s\tremaining: 26.5s\n",
      "204:\tlearn: 0.6040507\ttotal: 6.83s\tremaining: 26.5s\n",
      "205:\tlearn: 0.6039291\ttotal: 6.86s\tremaining: 26.4s\n",
      "206:\tlearn: 0.6038243\ttotal: 6.89s\tremaining: 26.4s\n",
      "207:\tlearn: 0.6037377\ttotal: 6.92s\tremaining: 26.3s\n",
      "208:\tlearn: 0.6036564\ttotal: 6.95s\tremaining: 26.3s\n",
      "209:\tlearn: 0.6035257\ttotal: 6.98s\tremaining: 26.2s\n",
      "210:\tlearn: 0.6034287\ttotal: 7.01s\tremaining: 26.2s\n",
      "211:\tlearn: 0.6033470\ttotal: 7.04s\tremaining: 26.2s\n",
      "212:\tlearn: 0.6031414\ttotal: 7.07s\tremaining: 26.1s\n",
      "213:\tlearn: 0.6030237\ttotal: 7.1s\tremaining: 26.1s\n",
      "214:\tlearn: 0.6029447\ttotal: 7.13s\tremaining: 26s\n",
      "215:\tlearn: 0.6027731\ttotal: 7.16s\tremaining: 26s\n",
      "216:\tlearn: 0.6026745\ttotal: 7.19s\tremaining: 25.9s\n",
      "217:\tlearn: 0.6025249\ttotal: 7.22s\tremaining: 25.9s\n",
      "218:\tlearn: 0.6024420\ttotal: 7.25s\tremaining: 25.9s\n",
      "219:\tlearn: 0.6022633\ttotal: 7.28s\tremaining: 25.8s\n",
      "220:\tlearn: 0.6021271\ttotal: 7.31s\tremaining: 25.8s\n",
      "221:\tlearn: 0.6020136\ttotal: 7.34s\tremaining: 25.7s\n",
      "222:\tlearn: 0.6018623\ttotal: 7.37s\tremaining: 25.7s\n",
      "223:\tlearn: 0.6017675\ttotal: 7.4s\tremaining: 25.6s\n",
      "224:\tlearn: 0.6015733\ttotal: 7.43s\tremaining: 25.6s\n",
      "225:\tlearn: 0.6013773\ttotal: 7.46s\tremaining: 25.5s\n",
      "226:\tlearn: 0.6012271\ttotal: 7.49s\tremaining: 25.5s\n",
      "227:\tlearn: 0.6010899\ttotal: 7.52s\tremaining: 25.5s\n",
      "228:\tlearn: 0.6009012\ttotal: 7.55s\tremaining: 25.4s\n",
      "229:\tlearn: 0.6007945\ttotal: 7.58s\tremaining: 25.4s\n",
      "230:\tlearn: 0.6007124\ttotal: 7.61s\tremaining: 25.3s\n",
      "231:\tlearn: 0.6005904\ttotal: 7.64s\tremaining: 25.3s\n",
      "232:\tlearn: 0.6003993\ttotal: 7.67s\tremaining: 25.2s\n",
      "233:\tlearn: 0.6003102\ttotal: 7.7s\tremaining: 25.2s\n",
      "234:\tlearn: 0.6002537\ttotal: 7.73s\tremaining: 25.2s\n",
      "235:\tlearn: 0.6001088\ttotal: 7.76s\tremaining: 25.1s\n",
      "236:\tlearn: 0.6000431\ttotal: 7.79s\tremaining: 25.1s\n",
      "237:\tlearn: 0.5999179\ttotal: 7.82s\tremaining: 25s\n",
      "238:\tlearn: 0.5997696\ttotal: 7.85s\tremaining: 25s\n",
      "239:\tlearn: 0.5996154\ttotal: 7.88s\tremaining: 24.9s\n",
      "240:\tlearn: 0.5994833\ttotal: 7.91s\tremaining: 24.9s\n",
      "241:\tlearn: 0.5993334\ttotal: 7.94s\tremaining: 24.9s\n",
      "242:\tlearn: 0.5991508\ttotal: 7.97s\tremaining: 24.8s\n",
      "243:\tlearn: 0.5990629\ttotal: 8s\tremaining: 24.8s\n",
      "244:\tlearn: 0.5989294\ttotal: 8.03s\tremaining: 24.7s\n",
      "245:\tlearn: 0.5987679\ttotal: 8.06s\tremaining: 24.7s\n",
      "246:\tlearn: 0.5986393\ttotal: 8.09s\tremaining: 24.7s\n",
      "247:\tlearn: 0.5985394\ttotal: 8.12s\tremaining: 24.6s\n",
      "248:\tlearn: 0.5983550\ttotal: 8.15s\tremaining: 24.6s\n",
      "249:\tlearn: 0.5982381\ttotal: 8.18s\tremaining: 24.5s\n",
      "250:\tlearn: 0.5981344\ttotal: 8.21s\tremaining: 24.5s\n",
      "251:\tlearn: 0.5980266\ttotal: 8.24s\tremaining: 24.4s\n",
      "252:\tlearn: 0.5979390\ttotal: 8.27s\tremaining: 24.4s\n",
      "253:\tlearn: 0.5978065\ttotal: 8.3s\tremaining: 24.4s\n",
      "254:\tlearn: 0.5976504\ttotal: 8.33s\tremaining: 24.3s\n",
      "255:\tlearn: 0.5975495\ttotal: 8.36s\tremaining: 24.3s\n",
      "256:\tlearn: 0.5973890\ttotal: 8.39s\tremaining: 24.2s\n",
      "257:\tlearn: 0.5972463\ttotal: 8.42s\tremaining: 24.2s\n",
      "258:\tlearn: 0.5970879\ttotal: 8.45s\tremaining: 24.2s\n",
      "259:\tlearn: 0.5970031\ttotal: 8.47s\tremaining: 24.1s\n",
      "260:\tlearn: 0.5968871\ttotal: 8.5s\tremaining: 24.1s\n",
      "261:\tlearn: 0.5967846\ttotal: 8.53s\tremaining: 24s\n",
      "262:\tlearn: 0.5966673\ttotal: 8.56s\tremaining: 24s\n",
      "263:\tlearn: 0.5965630\ttotal: 8.59s\tremaining: 24s\n",
      "264:\tlearn: 0.5963849\ttotal: 8.62s\tremaining: 23.9s\n",
      "265:\tlearn: 0.5962802\ttotal: 8.65s\tremaining: 23.9s\n",
      "266:\tlearn: 0.5960330\ttotal: 8.69s\tremaining: 23.8s\n",
      "267:\tlearn: 0.5959220\ttotal: 8.72s\tremaining: 23.8s\n",
      "268:\tlearn: 0.5957775\ttotal: 8.75s\tremaining: 23.8s\n",
      "269:\tlearn: 0.5956447\ttotal: 8.78s\tremaining: 23.7s\n",
      "270:\tlearn: 0.5955301\ttotal: 8.81s\tremaining: 23.7s\n",
      "271:\tlearn: 0.5953761\ttotal: 8.84s\tremaining: 23.7s\n",
      "272:\tlearn: 0.5951967\ttotal: 8.87s\tremaining: 23.6s\n",
      "273:\tlearn: 0.5950928\ttotal: 8.9s\tremaining: 23.6s\n",
      "274:\tlearn: 0.5949224\ttotal: 8.93s\tremaining: 23.5s\n",
      "275:\tlearn: 0.5947461\ttotal: 8.96s\tremaining: 23.5s\n",
      "276:\tlearn: 0.5945856\ttotal: 8.99s\tremaining: 23.5s\n",
      "277:\tlearn: 0.5944953\ttotal: 9.02s\tremaining: 23.4s\n",
      "278:\tlearn: 0.5944029\ttotal: 9.04s\tremaining: 23.4s\n",
      "279:\tlearn: 0.5942651\ttotal: 9.07s\tremaining: 23.3s\n",
      "280:\tlearn: 0.5941495\ttotal: 9.11s\tremaining: 23.3s\n",
      "281:\tlearn: 0.5939824\ttotal: 9.14s\tremaining: 23.3s\n",
      "282:\tlearn: 0.5938838\ttotal: 9.17s\tremaining: 23.2s\n",
      "283:\tlearn: 0.5937472\ttotal: 9.2s\tremaining: 23.2s\n",
      "284:\tlearn: 0.5936358\ttotal: 9.23s\tremaining: 23.1s\n",
      "285:\tlearn: 0.5935195\ttotal: 9.26s\tremaining: 23.1s\n",
      "286:\tlearn: 0.5933937\ttotal: 9.29s\tremaining: 23.1s\n",
      "287:\tlearn: 0.5932634\ttotal: 9.31s\tremaining: 23s\n",
      "288:\tlearn: 0.5931406\ttotal: 9.35s\tremaining: 23s\n",
      "289:\tlearn: 0.5930040\ttotal: 9.37s\tremaining: 22.9s\n",
      "290:\tlearn: 0.5928806\ttotal: 9.4s\tremaining: 22.9s\n",
      "291:\tlearn: 0.5927633\ttotal: 9.43s\tremaining: 22.9s\n",
      "292:\tlearn: 0.5926328\ttotal: 9.46s\tremaining: 22.8s\n",
      "293:\tlearn: 0.5925157\ttotal: 9.49s\tremaining: 22.8s\n",
      "294:\tlearn: 0.5923991\ttotal: 9.52s\tremaining: 22.8s\n",
      "295:\tlearn: 0.5922800\ttotal: 9.55s\tremaining: 22.7s\n",
      "296:\tlearn: 0.5921087\ttotal: 9.58s\tremaining: 22.7s\n",
      "297:\tlearn: 0.5919705\ttotal: 9.61s\tremaining: 22.6s\n",
      "298:\tlearn: 0.5917628\ttotal: 9.64s\tremaining: 22.6s\n",
      "299:\tlearn: 0.5916221\ttotal: 9.67s\tremaining: 22.6s\n",
      "300:\tlearn: 0.5914872\ttotal: 9.7s\tremaining: 22.5s\n",
      "301:\tlearn: 0.5913732\ttotal: 9.73s\tremaining: 22.5s\n",
      "302:\tlearn: 0.5912156\ttotal: 9.76s\tremaining: 22.5s\n",
      "303:\tlearn: 0.5910806\ttotal: 9.79s\tremaining: 22.4s\n",
      "304:\tlearn: 0.5909372\ttotal: 9.82s\tremaining: 22.4s\n",
      "305:\tlearn: 0.5907947\ttotal: 9.85s\tremaining: 22.3s\n",
      "306:\tlearn: 0.5906084\ttotal: 9.88s\tremaining: 22.3s\n",
      "307:\tlearn: 0.5904582\ttotal: 9.91s\tremaining: 22.3s\n",
      "308:\tlearn: 0.5903215\ttotal: 9.94s\tremaining: 22.2s\n",
      "309:\tlearn: 0.5901815\ttotal: 9.97s\tremaining: 22.2s\n",
      "310:\tlearn: 0.5900085\ttotal: 10s\tremaining: 22.2s\n",
      "311:\tlearn: 0.5898920\ttotal: 10s\tremaining: 22.1s\n",
      "312:\tlearn: 0.5897696\ttotal: 10.1s\tremaining: 22.1s\n",
      "313:\tlearn: 0.5895936\ttotal: 10.1s\tremaining: 22.1s\n",
      "314:\tlearn: 0.5894386\ttotal: 10.1s\tremaining: 22s\n",
      "315:\tlearn: 0.5892729\ttotal: 10.2s\tremaining: 22s\n",
      "316:\tlearn: 0.5891117\ttotal: 10.2s\tremaining: 21.9s\n",
      "317:\tlearn: 0.5889782\ttotal: 10.2s\tremaining: 21.9s\n",
      "318:\tlearn: 0.5888491\ttotal: 10.3s\tremaining: 21.9s\n",
      "319:\tlearn: 0.5887253\ttotal: 10.3s\tremaining: 21.9s\n",
      "320:\tlearn: 0.5885092\ttotal: 10.3s\tremaining: 21.8s\n",
      "321:\tlearn: 0.5884035\ttotal: 10.4s\tremaining: 21.8s\n",
      "322:\tlearn: 0.5883008\ttotal: 10.4s\tremaining: 21.8s\n",
      "323:\tlearn: 0.5881914\ttotal: 10.4s\tremaining: 21.7s\n",
      "324:\tlearn: 0.5880471\ttotal: 10.4s\tremaining: 21.7s\n",
      "325:\tlearn: 0.5879569\ttotal: 10.5s\tremaining: 21.6s\n",
      "326:\tlearn: 0.5878423\ttotal: 10.5s\tremaining: 21.6s\n",
      "327:\tlearn: 0.5877272\ttotal: 10.5s\tremaining: 21.6s\n"
     ]
    },
    {
     "name": "stdout",
     "output_type": "stream",
     "text": [
      "328:\tlearn: 0.5875622\ttotal: 10.6s\tremaining: 21.5s\n",
      "329:\tlearn: 0.5874514\ttotal: 10.6s\tremaining: 21.5s\n",
      "330:\tlearn: 0.5873195\ttotal: 10.6s\tremaining: 21.5s\n",
      "331:\tlearn: 0.5871999\ttotal: 10.7s\tremaining: 21.4s\n",
      "332:\tlearn: 0.5870328\ttotal: 10.7s\tremaining: 21.4s\n",
      "333:\tlearn: 0.5869155\ttotal: 10.7s\tremaining: 21.4s\n",
      "334:\tlearn: 0.5867842\ttotal: 10.7s\tremaining: 21.3s\n",
      "335:\tlearn: 0.5865992\ttotal: 10.8s\tremaining: 21.3s\n",
      "336:\tlearn: 0.5864891\ttotal: 10.8s\tremaining: 21.3s\n",
      "337:\tlearn: 0.5863181\ttotal: 10.8s\tremaining: 21.2s\n",
      "338:\tlearn: 0.5861785\ttotal: 10.9s\tremaining: 21.2s\n",
      "339:\tlearn: 0.5860330\ttotal: 10.9s\tremaining: 21.2s\n",
      "340:\tlearn: 0.5859208\ttotal: 10.9s\tremaining: 21.1s\n",
      "341:\tlearn: 0.5858065\ttotal: 11s\tremaining: 21.1s\n",
      "342:\tlearn: 0.5856888\ttotal: 11s\tremaining: 21s\n",
      "343:\tlearn: 0.5855529\ttotal: 11s\tremaining: 21s\n",
      "344:\tlearn: 0.5854653\ttotal: 11s\tremaining: 21s\n",
      "345:\tlearn: 0.5853162\ttotal: 11.1s\tremaining: 20.9s\n",
      "346:\tlearn: 0.5851477\ttotal: 11.1s\tremaining: 20.9s\n",
      "347:\tlearn: 0.5849811\ttotal: 11.1s\tremaining: 20.9s\n",
      "348:\tlearn: 0.5848322\ttotal: 11.2s\tremaining: 20.8s\n",
      "349:\tlearn: 0.5846850\ttotal: 11.2s\tremaining: 20.8s\n",
      "350:\tlearn: 0.5845314\ttotal: 11.2s\tremaining: 20.7s\n",
      "351:\tlearn: 0.5843645\ttotal: 11.3s\tremaining: 20.7s\n",
      "352:\tlearn: 0.5842387\ttotal: 11.3s\tremaining: 20.7s\n",
      "353:\tlearn: 0.5841356\ttotal: 11.3s\tremaining: 20.6s\n",
      "354:\tlearn: 0.5839617\ttotal: 11.3s\tremaining: 20.6s\n",
      "355:\tlearn: 0.5838364\ttotal: 11.4s\tremaining: 20.6s\n",
      "356:\tlearn: 0.5837363\ttotal: 11.4s\tremaining: 20.5s\n",
      "357:\tlearn: 0.5835982\ttotal: 11.4s\tremaining: 20.5s\n",
      "358:\tlearn: 0.5834027\ttotal: 11.5s\tremaining: 20.5s\n",
      "359:\tlearn: 0.5833006\ttotal: 11.5s\tremaining: 20.4s\n",
      "360:\tlearn: 0.5831327\ttotal: 11.5s\tremaining: 20.4s\n",
      "361:\tlearn: 0.5830316\ttotal: 11.5s\tremaining: 20.4s\n",
      "362:\tlearn: 0.5829073\ttotal: 11.6s\tremaining: 20.3s\n",
      "363:\tlearn: 0.5825283\ttotal: 11.6s\tremaining: 20.3s\n",
      "364:\tlearn: 0.5823758\ttotal: 11.6s\tremaining: 20.2s\n",
      "365:\tlearn: 0.5822768\ttotal: 11.7s\tremaining: 20.2s\n",
      "366:\tlearn: 0.5821758\ttotal: 11.7s\tremaining: 20.2s\n",
      "367:\tlearn: 0.5820368\ttotal: 11.7s\tremaining: 20.1s\n",
      "368:\tlearn: 0.5818549\ttotal: 11.8s\tremaining: 20.1s\n",
      "369:\tlearn: 0.5817467\ttotal: 11.8s\tremaining: 20.1s\n",
      "370:\tlearn: 0.5816031\ttotal: 11.8s\tremaining: 20s\n",
      "371:\tlearn: 0.5815148\ttotal: 11.9s\tremaining: 20s\n",
      "372:\tlearn: 0.5813926\ttotal: 11.9s\tremaining: 20s\n",
      "373:\tlearn: 0.5811985\ttotal: 11.9s\tremaining: 19.9s\n",
      "374:\tlearn: 0.5809916\ttotal: 11.9s\tremaining: 19.9s\n",
      "375:\tlearn: 0.5808437\ttotal: 12s\tremaining: 19.9s\n",
      "376:\tlearn: 0.5807458\ttotal: 12s\tremaining: 19.8s\n",
      "377:\tlearn: 0.5806302\ttotal: 12s\tremaining: 19.8s\n",
      "378:\tlearn: 0.5804770\ttotal: 12.1s\tremaining: 19.8s\n",
      "379:\tlearn: 0.5803413\ttotal: 12.1s\tremaining: 19.7s\n",
      "380:\tlearn: 0.5802354\ttotal: 12.1s\tremaining: 19.7s\n",
      "381:\tlearn: 0.5800818\ttotal: 12.2s\tremaining: 19.7s\n",
      "382:\tlearn: 0.5800085\ttotal: 12.2s\tremaining: 19.7s\n",
      "383:\tlearn: 0.5798757\ttotal: 12.2s\tremaining: 19.6s\n",
      "384:\tlearn: 0.5797737\ttotal: 12.3s\tremaining: 19.6s\n",
      "385:\tlearn: 0.5796429\ttotal: 12.3s\tremaining: 19.6s\n",
      "386:\tlearn: 0.5795206\ttotal: 12.3s\tremaining: 19.5s\n",
      "387:\tlearn: 0.5794118\ttotal: 12.4s\tremaining: 19.5s\n",
      "388:\tlearn: 0.5792350\ttotal: 12.4s\tremaining: 19.5s\n",
      "389:\tlearn: 0.5791234\ttotal: 12.4s\tremaining: 19.4s\n",
      "390:\tlearn: 0.5790401\ttotal: 12.5s\tremaining: 19.4s\n",
      "391:\tlearn: 0.5788416\ttotal: 12.5s\tremaining: 19.4s\n",
      "392:\tlearn: 0.5786806\ttotal: 12.5s\tremaining: 19.3s\n",
      "393:\tlearn: 0.5785150\ttotal: 12.6s\tremaining: 19.3s\n",
      "394:\tlearn: 0.5784238\ttotal: 12.6s\tremaining: 19.3s\n",
      "395:\tlearn: 0.5783194\ttotal: 12.6s\tremaining: 19.3s\n",
      "396:\tlearn: 0.5781396\ttotal: 12.7s\tremaining: 19.3s\n",
      "397:\tlearn: 0.5780169\ttotal: 12.7s\tremaining: 19.2s\n",
      "398:\tlearn: 0.5779154\ttotal: 12.8s\tremaining: 19.2s\n",
      "399:\tlearn: 0.5777656\ttotal: 12.8s\tremaining: 19.2s\n",
      "400:\tlearn: 0.5776637\ttotal: 12.8s\tremaining: 19.1s\n",
      "401:\tlearn: 0.5775122\ttotal: 12.8s\tremaining: 19.1s\n",
      "402:\tlearn: 0.5773950\ttotal: 12.9s\tremaining: 19.1s\n",
      "403:\tlearn: 0.5773200\ttotal: 12.9s\tremaining: 19.1s\n",
      "404:\tlearn: 0.5772164\ttotal: 13s\tremaining: 19s\n",
      "405:\tlearn: 0.5770055\ttotal: 13s\tremaining: 19s\n",
      "406:\tlearn: 0.5768799\ttotal: 13s\tremaining: 19s\n",
      "407:\tlearn: 0.5767547\ttotal: 13.1s\tremaining: 18.9s\n",
      "408:\tlearn: 0.5765643\ttotal: 13.1s\tremaining: 18.9s\n",
      "409:\tlearn: 0.5763775\ttotal: 13.1s\tremaining: 18.9s\n",
      "410:\tlearn: 0.5762501\ttotal: 13.2s\tremaining: 18.8s\n",
      "411:\tlearn: 0.5760998\ttotal: 13.2s\tremaining: 18.8s\n",
      "412:\tlearn: 0.5759469\ttotal: 13.2s\tremaining: 18.8s\n",
      "413:\tlearn: 0.5758756\ttotal: 13.2s\tremaining: 18.7s\n",
      "414:\tlearn: 0.5756617\ttotal: 13.3s\tremaining: 18.7s\n",
      "415:\tlearn: 0.5754812\ttotal: 13.3s\tremaining: 18.7s\n",
      "416:\tlearn: 0.5754307\ttotal: 13.3s\tremaining: 18.6s\n",
      "417:\tlearn: 0.5753015\ttotal: 13.4s\tremaining: 18.6s\n",
      "418:\tlearn: 0.5751926\ttotal: 13.4s\tremaining: 18.6s\n",
      "419:\tlearn: 0.5749968\ttotal: 13.4s\tremaining: 18.5s\n",
      "420:\tlearn: 0.5747436\ttotal: 13.5s\tremaining: 18.5s\n",
      "421:\tlearn: 0.5746139\ttotal: 13.5s\tremaining: 18.5s\n",
      "422:\tlearn: 0.5745069\ttotal: 13.5s\tremaining: 18.4s\n",
      "423:\tlearn: 0.5743963\ttotal: 13.6s\tremaining: 18.4s\n",
      "424:\tlearn: 0.5742305\ttotal: 13.6s\tremaining: 18.4s\n",
      "425:\tlearn: 0.5740931\ttotal: 13.6s\tremaining: 18.3s\n",
      "426:\tlearn: 0.5739786\ttotal: 13.6s\tremaining: 18.3s\n",
      "427:\tlearn: 0.5738949\ttotal: 13.7s\tremaining: 18.3s\n",
      "428:\tlearn: 0.5737657\ttotal: 13.7s\tremaining: 18.2s\n",
      "429:\tlearn: 0.5737008\ttotal: 13.7s\tremaining: 18.2s\n",
      "430:\tlearn: 0.5735596\ttotal: 13.8s\tremaining: 18.2s\n",
      "431:\tlearn: 0.5734106\ttotal: 13.8s\tremaining: 18.1s\n",
      "432:\tlearn: 0.5733256\ttotal: 13.8s\tremaining: 18.1s\n",
      "433:\tlearn: 0.5732144\ttotal: 13.8s\tremaining: 18.1s\n",
      "434:\tlearn: 0.5731488\ttotal: 13.9s\tremaining: 18s\n",
      "435:\tlearn: 0.5729898\ttotal: 13.9s\tremaining: 18s\n",
      "436:\tlearn: 0.5728983\ttotal: 13.9s\tremaining: 18s\n",
      "437:\tlearn: 0.5727500\ttotal: 14s\tremaining: 17.9s\n",
      "438:\tlearn: 0.5726370\ttotal: 14s\tremaining: 17.9s\n",
      "439:\tlearn: 0.5725166\ttotal: 14s\tremaining: 17.9s\n",
      "440:\tlearn: 0.5724122\ttotal: 14.1s\tremaining: 17.8s\n",
      "441:\tlearn: 0.5723121\ttotal: 14.1s\tremaining: 17.8s\n",
      "442:\tlearn: 0.5722419\ttotal: 14.1s\tremaining: 17.8s\n",
      "443:\tlearn: 0.5720807\ttotal: 14.1s\tremaining: 17.7s\n",
      "444:\tlearn: 0.5719510\ttotal: 14.2s\tremaining: 17.7s\n",
      "445:\tlearn: 0.5718671\ttotal: 14.2s\tremaining: 17.7s\n",
      "446:\tlearn: 0.5717315\ttotal: 14.2s\tremaining: 17.6s\n",
      "447:\tlearn: 0.5715735\ttotal: 14.3s\tremaining: 17.6s\n",
      "448:\tlearn: 0.5714804\ttotal: 14.3s\tremaining: 17.5s\n",
      "449:\tlearn: 0.5713569\ttotal: 14.3s\tremaining: 17.5s\n",
      "450:\tlearn: 0.5712579\ttotal: 14.4s\tremaining: 17.5s\n",
      "451:\tlearn: 0.5711882\ttotal: 14.4s\tremaining: 17.4s\n",
      "452:\tlearn: 0.5711244\ttotal: 14.4s\tremaining: 17.4s\n",
      "453:\tlearn: 0.5710254\ttotal: 14.4s\tremaining: 17.4s\n",
      "454:\tlearn: 0.5709321\ttotal: 14.5s\tremaining: 17.3s\n",
      "455:\tlearn: 0.5708122\ttotal: 14.5s\tremaining: 17.3s\n",
      "456:\tlearn: 0.5706895\ttotal: 14.5s\tremaining: 17.3s\n",
      "457:\tlearn: 0.5705452\ttotal: 14.6s\tremaining: 17.2s\n",
      "458:\tlearn: 0.5704582\ttotal: 14.6s\tremaining: 17.2s\n",
      "459:\tlearn: 0.5703652\ttotal: 14.6s\tremaining: 17.2s\n",
      "460:\tlearn: 0.5702526\ttotal: 14.7s\tremaining: 17.1s\n",
      "461:\tlearn: 0.5701499\ttotal: 14.7s\tremaining: 17.1s\n",
      "462:\tlearn: 0.5701018\ttotal: 14.7s\tremaining: 17.1s\n",
      "463:\tlearn: 0.5699896\ttotal: 14.7s\tremaining: 17s\n",
      "464:\tlearn: 0.5698872\ttotal: 14.8s\tremaining: 17s\n",
      "465:\tlearn: 0.5696871\ttotal: 14.8s\tremaining: 17s\n",
      "466:\tlearn: 0.5696138\ttotal: 14.8s\tremaining: 16.9s\n",
      "467:\tlearn: 0.5695705\ttotal: 14.9s\tremaining: 16.9s\n",
      "468:\tlearn: 0.5695049\ttotal: 14.9s\tremaining: 16.9s\n",
      "469:\tlearn: 0.5693477\ttotal: 14.9s\tremaining: 16.8s\n",
      "470:\tlearn: 0.5692744\ttotal: 14.9s\tremaining: 16.8s\n",
      "471:\tlearn: 0.5691996\ttotal: 15s\tremaining: 16.8s\n",
      "472:\tlearn: 0.5691183\ttotal: 15s\tremaining: 16.7s\n",
      "473:\tlearn: 0.5689516\ttotal: 15s\tremaining: 16.7s\n",
      "474:\tlearn: 0.5688655\ttotal: 15.1s\tremaining: 16.7s\n",
      "475:\tlearn: 0.5687793\ttotal: 15.1s\tremaining: 16.6s\n",
      "476:\tlearn: 0.5686385\ttotal: 15.1s\tremaining: 16.6s\n",
      "477:\tlearn: 0.5685892\ttotal: 15.2s\tremaining: 16.6s\n",
      "478:\tlearn: 0.5684926\ttotal: 15.2s\tremaining: 16.5s\n",
      "479:\tlearn: 0.5683629\ttotal: 15.2s\tremaining: 16.5s\n",
      "480:\tlearn: 0.5682264\ttotal: 15.2s\tremaining: 16.4s\n",
      "481:\tlearn: 0.5680698\ttotal: 15.3s\tremaining: 16.4s\n",
      "482:\tlearn: 0.5679399\ttotal: 15.3s\tremaining: 16.4s\n",
      "483:\tlearn: 0.5678387\ttotal: 15.3s\tremaining: 16.4s\n",
      "484:\tlearn: 0.5677404\ttotal: 15.4s\tremaining: 16.3s\n",
      "485:\tlearn: 0.5676686\ttotal: 15.4s\tremaining: 16.3s\n",
      "486:\tlearn: 0.5675612\ttotal: 15.4s\tremaining: 16.2s\n",
      "487:\tlearn: 0.5674940\ttotal: 15.5s\tremaining: 16.2s\n",
      "488:\tlearn: 0.5674261\ttotal: 15.5s\tremaining: 16.2s\n"
     ]
    },
    {
     "name": "stdout",
     "output_type": "stream",
     "text": [
      "489:\tlearn: 0.5673589\ttotal: 15.5s\tremaining: 16.1s\n",
      "490:\tlearn: 0.5672187\ttotal: 15.5s\tremaining: 16.1s\n",
      "491:\tlearn: 0.5671271\ttotal: 15.6s\tremaining: 16.1s\n",
      "492:\tlearn: 0.5670434\ttotal: 15.6s\tremaining: 16s\n",
      "493:\tlearn: 0.5669680\ttotal: 15.6s\tremaining: 16s\n",
      "494:\tlearn: 0.5668663\ttotal: 15.7s\tremaining: 16s\n",
      "495:\tlearn: 0.5667837\ttotal: 15.7s\tremaining: 15.9s\n",
      "496:\tlearn: 0.5666795\ttotal: 15.7s\tremaining: 15.9s\n",
      "497:\tlearn: 0.5665929\ttotal: 15.8s\tremaining: 15.9s\n",
      "498:\tlearn: 0.5664284\ttotal: 15.8s\tremaining: 15.8s\n",
      "499:\tlearn: 0.5663349\ttotal: 15.8s\tremaining: 15.8s\n",
      "500:\tlearn: 0.5662237\ttotal: 15.8s\tremaining: 15.8s\n",
      "501:\tlearn: 0.5661024\ttotal: 15.9s\tremaining: 15.8s\n",
      "502:\tlearn: 0.5660161\ttotal: 15.9s\tremaining: 15.7s\n",
      "503:\tlearn: 0.5659305\ttotal: 15.9s\tremaining: 15.7s\n",
      "504:\tlearn: 0.5658153\ttotal: 16s\tremaining: 15.7s\n",
      "505:\tlearn: 0.5657388\ttotal: 16s\tremaining: 15.6s\n",
      "506:\tlearn: 0.5656437\ttotal: 16s\tremaining: 15.6s\n",
      "507:\tlearn: 0.5655326\ttotal: 16.1s\tremaining: 15.6s\n",
      "508:\tlearn: 0.5654409\ttotal: 16.1s\tremaining: 15.5s\n",
      "509:\tlearn: 0.5653202\ttotal: 16.1s\tremaining: 15.5s\n",
      "510:\tlearn: 0.5652085\ttotal: 16.2s\tremaining: 15.5s\n",
      "511:\tlearn: 0.5651395\ttotal: 16.2s\tremaining: 15.4s\n",
      "512:\tlearn: 0.5650295\ttotal: 16.2s\tremaining: 15.4s\n",
      "513:\tlearn: 0.5649332\ttotal: 16.2s\tremaining: 15.4s\n",
      "514:\tlearn: 0.5648875\ttotal: 16.3s\tremaining: 15.3s\n",
      "515:\tlearn: 0.5648204\ttotal: 16.3s\tremaining: 15.3s\n",
      "516:\tlearn: 0.5647434\ttotal: 16.3s\tremaining: 15.3s\n",
      "517:\tlearn: 0.5645950\ttotal: 16.4s\tremaining: 15.2s\n",
      "518:\tlearn: 0.5645080\ttotal: 16.4s\tremaining: 15.2s\n",
      "519:\tlearn: 0.5643894\ttotal: 16.4s\tremaining: 15.2s\n",
      "520:\tlearn: 0.5642480\ttotal: 16.5s\tremaining: 15.1s\n",
      "521:\tlearn: 0.5641295\ttotal: 16.5s\tremaining: 15.1s\n",
      "522:\tlearn: 0.5640099\ttotal: 16.5s\tremaining: 15.1s\n",
      "523:\tlearn: 0.5639116\ttotal: 16.6s\tremaining: 15s\n",
      "524:\tlearn: 0.5638102\ttotal: 16.6s\tremaining: 15s\n",
      "525:\tlearn: 0.5637373\ttotal: 16.6s\tremaining: 15s\n",
      "526:\tlearn: 0.5636360\ttotal: 16.7s\tremaining: 14.9s\n",
      "527:\tlearn: 0.5635671\ttotal: 16.7s\tremaining: 14.9s\n",
      "528:\tlearn: 0.5634603\ttotal: 16.7s\tremaining: 14.9s\n",
      "529:\tlearn: 0.5633714\ttotal: 16.7s\tremaining: 14.8s\n",
      "530:\tlearn: 0.5632833\ttotal: 16.8s\tremaining: 14.8s\n",
      "531:\tlearn: 0.5631210\ttotal: 16.8s\tremaining: 14.8s\n",
      "532:\tlearn: 0.5630619\ttotal: 16.8s\tremaining: 14.8s\n",
      "533:\tlearn: 0.5629218\ttotal: 16.9s\tremaining: 14.7s\n",
      "534:\tlearn: 0.5628479\ttotal: 16.9s\tremaining: 14.7s\n",
      "535:\tlearn: 0.5627655\ttotal: 16.9s\tremaining: 14.7s\n",
      "536:\tlearn: 0.5626626\ttotal: 17s\tremaining: 14.6s\n",
      "537:\tlearn: 0.5625874\ttotal: 17s\tremaining: 14.6s\n",
      "538:\tlearn: 0.5624693\ttotal: 17s\tremaining: 14.6s\n",
      "539:\tlearn: 0.5624262\ttotal: 17.1s\tremaining: 14.5s\n",
      "540:\tlearn: 0.5622796\ttotal: 17.1s\tremaining: 14.5s\n",
      "541:\tlearn: 0.5621713\ttotal: 17.1s\tremaining: 14.5s\n",
      "542:\tlearn: 0.5620807\ttotal: 17.2s\tremaining: 14.5s\n",
      "543:\tlearn: 0.5619932\ttotal: 17.2s\tremaining: 14.4s\n",
      "544:\tlearn: 0.5618670\ttotal: 17.2s\tremaining: 14.4s\n",
      "545:\tlearn: 0.5617502\ttotal: 17.3s\tremaining: 14.4s\n",
      "546:\tlearn: 0.5616660\ttotal: 17.3s\tremaining: 14.3s\n",
      "547:\tlearn: 0.5615496\ttotal: 17.3s\tremaining: 14.3s\n",
      "548:\tlearn: 0.5614808\ttotal: 17.4s\tremaining: 14.3s\n",
      "549:\tlearn: 0.5613725\ttotal: 17.4s\tremaining: 14.2s\n",
      "550:\tlearn: 0.5612722\ttotal: 17.4s\tremaining: 14.2s\n",
      "551:\tlearn: 0.5611887\ttotal: 17.5s\tremaining: 14.2s\n",
      "552:\tlearn: 0.5611276\ttotal: 17.5s\tremaining: 14.2s\n",
      "553:\tlearn: 0.5610227\ttotal: 17.5s\tremaining: 14.1s\n",
      "554:\tlearn: 0.5609619\ttotal: 17.6s\tremaining: 14.1s\n",
      "555:\tlearn: 0.5608451\ttotal: 17.6s\tremaining: 14.1s\n",
      "556:\tlearn: 0.5607423\ttotal: 17.6s\tremaining: 14s\n",
      "557:\tlearn: 0.5607087\ttotal: 17.7s\tremaining: 14s\n",
      "558:\tlearn: 0.5606105\ttotal: 17.7s\tremaining: 14s\n",
      "559:\tlearn: 0.5605500\ttotal: 17.7s\tremaining: 13.9s\n",
      "560:\tlearn: 0.5605094\ttotal: 17.8s\tremaining: 13.9s\n",
      "561:\tlearn: 0.5604194\ttotal: 17.8s\tremaining: 13.9s\n",
      "562:\tlearn: 0.5603055\ttotal: 17.8s\tremaining: 13.8s\n",
      "563:\tlearn: 0.5602227\ttotal: 17.9s\tremaining: 13.8s\n",
      "564:\tlearn: 0.5601243\ttotal: 17.9s\tremaining: 13.8s\n",
      "565:\tlearn: 0.5600211\ttotal: 17.9s\tremaining: 13.7s\n",
      "566:\tlearn: 0.5598749\ttotal: 17.9s\tremaining: 13.7s\n",
      "567:\tlearn: 0.5597655\ttotal: 18s\tremaining: 13.7s\n",
      "568:\tlearn: 0.5597164\ttotal: 18s\tremaining: 13.6s\n",
      "569:\tlearn: 0.5596555\ttotal: 18s\tremaining: 13.6s\n",
      "570:\tlearn: 0.5595723\ttotal: 18.1s\tremaining: 13.6s\n",
      "571:\tlearn: 0.5594743\ttotal: 18.1s\tremaining: 13.5s\n",
      "572:\tlearn: 0.5593969\ttotal: 18.1s\tremaining: 13.5s\n",
      "573:\tlearn: 0.5592233\ttotal: 18.2s\tremaining: 13.5s\n",
      "574:\tlearn: 0.5591689\ttotal: 18.2s\tremaining: 13.4s\n",
      "575:\tlearn: 0.5590777\ttotal: 18.2s\tremaining: 13.4s\n",
      "576:\tlearn: 0.5589514\ttotal: 18.3s\tremaining: 13.4s\n",
      "577:\tlearn: 0.5588530\ttotal: 18.3s\tremaining: 13.3s\n",
      "578:\tlearn: 0.5587461\ttotal: 18.3s\tremaining: 13.3s\n",
      "579:\tlearn: 0.5586501\ttotal: 18.4s\tremaining: 13.3s\n",
      "580:\tlearn: 0.5585307\ttotal: 18.4s\tremaining: 13.3s\n",
      "581:\tlearn: 0.5584135\ttotal: 18.4s\tremaining: 13.2s\n",
      "582:\tlearn: 0.5583490\ttotal: 18.4s\tremaining: 13.2s\n",
      "583:\tlearn: 0.5582886\ttotal: 18.5s\tremaining: 13.2s\n",
      "584:\tlearn: 0.5581912\ttotal: 18.5s\tremaining: 13.1s\n",
      "585:\tlearn: 0.5581314\ttotal: 18.5s\tremaining: 13.1s\n",
      "586:\tlearn: 0.5579923\ttotal: 18.6s\tremaining: 13.1s\n",
      "587:\tlearn: 0.5578768\ttotal: 18.6s\tremaining: 13s\n",
      "588:\tlearn: 0.5577961\ttotal: 18.6s\tremaining: 13s\n",
      "589:\tlearn: 0.5576576\ttotal: 18.7s\tremaining: 13s\n",
      "590:\tlearn: 0.5575984\ttotal: 18.7s\tremaining: 12.9s\n",
      "591:\tlearn: 0.5574431\ttotal: 18.7s\tremaining: 12.9s\n",
      "592:\tlearn: 0.5573841\ttotal: 18.7s\tremaining: 12.9s\n",
      "593:\tlearn: 0.5572863\ttotal: 18.8s\tremaining: 12.8s\n",
      "594:\tlearn: 0.5571968\ttotal: 18.8s\tremaining: 12.8s\n",
      "595:\tlearn: 0.5571296\ttotal: 18.8s\tremaining: 12.8s\n",
      "596:\tlearn: 0.5570474\ttotal: 18.9s\tremaining: 12.7s\n",
      "597:\tlearn: 0.5569791\ttotal: 18.9s\tremaining: 12.7s\n",
      "598:\tlearn: 0.5568994\ttotal: 18.9s\tremaining: 12.7s\n",
      "599:\tlearn: 0.5568314\ttotal: 19s\tremaining: 12.6s\n",
      "600:\tlearn: 0.5567595\ttotal: 19s\tremaining: 12.6s\n",
      "601:\tlearn: 0.5567007\ttotal: 19s\tremaining: 12.6s\n",
      "602:\tlearn: 0.5565897\ttotal: 19s\tremaining: 12.5s\n",
      "603:\tlearn: 0.5564955\ttotal: 19.1s\tremaining: 12.5s\n",
      "604:\tlearn: 0.5563949\ttotal: 19.1s\tremaining: 12.5s\n",
      "605:\tlearn: 0.5562912\ttotal: 19.1s\tremaining: 12.4s\n",
      "606:\tlearn: 0.5562137\ttotal: 19.2s\tremaining: 12.4s\n",
      "607:\tlearn: 0.5561585\ttotal: 19.2s\tremaining: 12.4s\n",
      "608:\tlearn: 0.5561292\ttotal: 19.2s\tremaining: 12.3s\n",
      "609:\tlearn: 0.5560944\ttotal: 19.3s\tremaining: 12.3s\n",
      "610:\tlearn: 0.5559650\ttotal: 19.3s\tremaining: 12.3s\n",
      "611:\tlearn: 0.5559063\ttotal: 19.3s\tremaining: 12.2s\n",
      "612:\tlearn: 0.5558380\ttotal: 19.3s\tremaining: 12.2s\n",
      "613:\tlearn: 0.5557909\ttotal: 19.4s\tremaining: 12.2s\n",
      "614:\tlearn: 0.5557151\ttotal: 19.4s\tremaining: 12.1s\n",
      "615:\tlearn: 0.5555887\ttotal: 19.4s\tremaining: 12.1s\n",
      "616:\tlearn: 0.5554624\ttotal: 19.5s\tremaining: 12.1s\n",
      "617:\tlearn: 0.5553301\ttotal: 19.5s\tremaining: 12.1s\n",
      "618:\tlearn: 0.5552487\ttotal: 19.5s\tremaining: 12s\n",
      "619:\tlearn: 0.5550947\ttotal: 19.6s\tremaining: 12s\n",
      "620:\tlearn: 0.5550317\ttotal: 19.6s\tremaining: 12s\n",
      "621:\tlearn: 0.5549226\ttotal: 19.6s\tremaining: 11.9s\n",
      "622:\tlearn: 0.5548504\ttotal: 19.6s\tremaining: 11.9s\n",
      "623:\tlearn: 0.5547986\ttotal: 19.7s\tremaining: 11.9s\n",
      "624:\tlearn: 0.5546973\ttotal: 19.7s\tremaining: 11.8s\n",
      "625:\tlearn: 0.5546222\ttotal: 19.7s\tremaining: 11.8s\n",
      "626:\tlearn: 0.5545474\ttotal: 19.8s\tremaining: 11.8s\n",
      "627:\tlearn: 0.5544612\ttotal: 19.8s\tremaining: 11.7s\n",
      "628:\tlearn: 0.5543173\ttotal: 19.8s\tremaining: 11.7s\n",
      "629:\tlearn: 0.5542352\ttotal: 19.9s\tremaining: 11.7s\n",
      "630:\tlearn: 0.5541634\ttotal: 19.9s\tremaining: 11.6s\n",
      "631:\tlearn: 0.5540660\ttotal: 19.9s\tremaining: 11.6s\n",
      "632:\tlearn: 0.5539918\ttotal: 19.9s\tremaining: 11.6s\n",
      "633:\tlearn: 0.5538658\ttotal: 20s\tremaining: 11.5s\n",
      "634:\tlearn: 0.5537849\ttotal: 20s\tremaining: 11.5s\n",
      "635:\tlearn: 0.5537370\ttotal: 20s\tremaining: 11.5s\n",
      "636:\tlearn: 0.5536604\ttotal: 20.1s\tremaining: 11.4s\n",
      "637:\tlearn: 0.5536020\ttotal: 20.1s\tremaining: 11.4s\n",
      "638:\tlearn: 0.5535315\ttotal: 20.1s\tremaining: 11.4s\n",
      "639:\tlearn: 0.5533996\ttotal: 20.1s\tremaining: 11.3s\n",
      "640:\tlearn: 0.5533469\ttotal: 20.2s\tremaining: 11.3s\n",
      "641:\tlearn: 0.5532518\ttotal: 20.2s\tremaining: 11.3s\n",
      "642:\tlearn: 0.5531662\ttotal: 20.3s\tremaining: 11.2s\n",
      "643:\tlearn: 0.5530664\ttotal: 20.3s\tremaining: 11.2s\n",
      "644:\tlearn: 0.5529841\ttotal: 20.3s\tremaining: 11.2s\n",
      "645:\tlearn: 0.5529197\ttotal: 20.3s\tremaining: 11.2s\n",
      "646:\tlearn: 0.5528366\ttotal: 20.4s\tremaining: 11.1s\n",
      "647:\tlearn: 0.5527993\ttotal: 20.4s\tremaining: 11.1s\n",
      "648:\tlearn: 0.5526851\ttotal: 20.4s\tremaining: 11.1s\n"
     ]
    },
    {
     "name": "stdout",
     "output_type": "stream",
     "text": [
      "649:\tlearn: 0.5525759\ttotal: 20.5s\tremaining: 11s\n",
      "650:\tlearn: 0.5525260\ttotal: 20.5s\tremaining: 11s\n",
      "651:\tlearn: 0.5524301\ttotal: 20.5s\tremaining: 11s\n",
      "652:\tlearn: 0.5523653\ttotal: 20.6s\tremaining: 10.9s\n",
      "653:\tlearn: 0.5522889\ttotal: 20.6s\tremaining: 10.9s\n",
      "654:\tlearn: 0.5522120\ttotal: 20.6s\tremaining: 10.9s\n",
      "655:\tlearn: 0.5521493\ttotal: 20.7s\tremaining: 10.8s\n",
      "656:\tlearn: 0.5520352\ttotal: 20.7s\tremaining: 10.8s\n",
      "657:\tlearn: 0.5519632\ttotal: 20.7s\tremaining: 10.8s\n",
      "658:\tlearn: 0.5518603\ttotal: 20.8s\tremaining: 10.7s\n",
      "659:\tlearn: 0.5517880\ttotal: 20.8s\tremaining: 10.7s\n",
      "660:\tlearn: 0.5517181\ttotal: 20.8s\tremaining: 10.7s\n",
      "661:\tlearn: 0.5515768\ttotal: 20.9s\tremaining: 10.7s\n",
      "662:\tlearn: 0.5514300\ttotal: 20.9s\tremaining: 10.6s\n",
      "663:\tlearn: 0.5513323\ttotal: 20.9s\tremaining: 10.6s\n",
      "664:\tlearn: 0.5512332\ttotal: 21s\tremaining: 10.6s\n",
      "665:\tlearn: 0.5511305\ttotal: 21s\tremaining: 10.5s\n",
      "666:\tlearn: 0.5510328\ttotal: 21s\tremaining: 10.5s\n",
      "667:\tlearn: 0.5509838\ttotal: 21.1s\tremaining: 10.5s\n",
      "668:\tlearn: 0.5509128\ttotal: 21.1s\tremaining: 10.4s\n",
      "669:\tlearn: 0.5508565\ttotal: 21.1s\tremaining: 10.4s\n",
      "670:\tlearn: 0.5508116\ttotal: 21.2s\tremaining: 10.4s\n",
      "671:\tlearn: 0.5506418\ttotal: 21.2s\tremaining: 10.4s\n",
      "672:\tlearn: 0.5505920\ttotal: 21.2s\tremaining: 10.3s\n",
      "673:\tlearn: 0.5505047\ttotal: 21.3s\tremaining: 10.3s\n",
      "674:\tlearn: 0.5504531\ttotal: 21.3s\tremaining: 10.3s\n",
      "675:\tlearn: 0.5504012\ttotal: 21.3s\tremaining: 10.2s\n",
      "676:\tlearn: 0.5502964\ttotal: 21.4s\tremaining: 10.2s\n",
      "677:\tlearn: 0.5501956\ttotal: 21.4s\tremaining: 10.2s\n",
      "678:\tlearn: 0.5501539\ttotal: 21.4s\tremaining: 10.1s\n",
      "679:\tlearn: 0.5500640\ttotal: 21.5s\tremaining: 10.1s\n",
      "680:\tlearn: 0.5499499\ttotal: 21.5s\tremaining: 10.1s\n",
      "681:\tlearn: 0.5498400\ttotal: 21.6s\tremaining: 10s\n",
      "682:\tlearn: 0.5498088\ttotal: 21.6s\tremaining: 10s\n",
      "683:\tlearn: 0.5497270\ttotal: 21.6s\tremaining: 9.99s\n",
      "684:\tlearn: 0.5496552\ttotal: 21.6s\tremaining: 9.96s\n",
      "685:\tlearn: 0.5495392\ttotal: 21.7s\tremaining: 9.92s\n",
      "686:\tlearn: 0.5493995\ttotal: 21.7s\tremaining: 9.89s\n",
      "687:\tlearn: 0.5493336\ttotal: 21.8s\tremaining: 9.87s\n",
      "688:\tlearn: 0.5492616\ttotal: 21.8s\tremaining: 9.84s\n",
      "689:\tlearn: 0.5491639\ttotal: 21.8s\tremaining: 9.81s\n",
      "690:\tlearn: 0.5491168\ttotal: 21.9s\tremaining: 9.78s\n",
      "691:\tlearn: 0.5490365\ttotal: 21.9s\tremaining: 9.74s\n",
      "692:\tlearn: 0.5489485\ttotal: 21.9s\tremaining: 9.71s\n",
      "693:\tlearn: 0.5488418\ttotal: 22s\tremaining: 9.68s\n",
      "694:\tlearn: 0.5487659\ttotal: 22s\tremaining: 9.65s\n",
      "695:\tlearn: 0.5486785\ttotal: 22s\tremaining: 9.62s\n",
      "696:\tlearn: 0.5486252\ttotal: 22.1s\tremaining: 9.59s\n",
      "697:\tlearn: 0.5485653\ttotal: 22.1s\tremaining: 9.56s\n",
      "698:\tlearn: 0.5484780\ttotal: 22.1s\tremaining: 9.53s\n",
      "699:\tlearn: 0.5484172\ttotal: 22.2s\tremaining: 9.5s\n",
      "700:\tlearn: 0.5483021\ttotal: 22.2s\tremaining: 9.46s\n",
      "701:\tlearn: 0.5482544\ttotal: 22.2s\tremaining: 9.44s\n",
      "702:\tlearn: 0.5481745\ttotal: 22.3s\tremaining: 9.41s\n",
      "703:\tlearn: 0.5481040\ttotal: 22.3s\tremaining: 9.38s\n",
      "704:\tlearn: 0.5479979\ttotal: 22.3s\tremaining: 9.35s\n",
      "705:\tlearn: 0.5479392\ttotal: 22.4s\tremaining: 9.32s\n",
      "706:\tlearn: 0.5478993\ttotal: 22.4s\tremaining: 9.29s\n",
      "707:\tlearn: 0.5478270\ttotal: 22.4s\tremaining: 9.26s\n",
      "708:\tlearn: 0.5477090\ttotal: 22.5s\tremaining: 9.23s\n",
      "709:\tlearn: 0.5476768\ttotal: 22.5s\tremaining: 9.2s\n",
      "710:\tlearn: 0.5475878\ttotal: 22.5s\tremaining: 9.16s\n",
      "711:\tlearn: 0.5475071\ttotal: 22.6s\tremaining: 9.13s\n",
      "712:\tlearn: 0.5474185\ttotal: 22.6s\tremaining: 9.11s\n",
      "713:\tlearn: 0.5473481\ttotal: 22.7s\tremaining: 9.07s\n",
      "714:\tlearn: 0.5472533\ttotal: 22.7s\tremaining: 9.05s\n",
      "715:\tlearn: 0.5472111\ttotal: 22.8s\tremaining: 9.02s\n",
      "716:\tlearn: 0.5471634\ttotal: 22.8s\tremaining: 8.99s\n",
      "717:\tlearn: 0.5470945\ttotal: 22.8s\tremaining: 8.96s\n",
      "718:\tlearn: 0.5470139\ttotal: 22.9s\tremaining: 8.94s\n",
      "719:\tlearn: 0.5469711\ttotal: 22.9s\tremaining: 8.9s\n",
      "720:\tlearn: 0.5468806\ttotal: 22.9s\tremaining: 8.88s\n",
      "721:\tlearn: 0.5468302\ttotal: 23s\tremaining: 8.84s\n",
      "722:\tlearn: 0.5467817\ttotal: 23s\tremaining: 8.81s\n",
      "723:\tlearn: 0.5467496\ttotal: 23s\tremaining: 8.78s\n",
      "724:\tlearn: 0.5467242\ttotal: 23.1s\tremaining: 8.75s\n",
      "725:\tlearn: 0.5466329\ttotal: 23.1s\tremaining: 8.72s\n",
      "726:\tlearn: 0.5465239\ttotal: 23.1s\tremaining: 8.69s\n",
      "727:\tlearn: 0.5464506\ttotal: 23.2s\tremaining: 8.66s\n",
      "728:\tlearn: 0.5463730\ttotal: 23.2s\tremaining: 8.63s\n",
      "729:\tlearn: 0.5462938\ttotal: 23.3s\tremaining: 8.6s\n",
      "730:\tlearn: 0.5461869\ttotal: 23.3s\tremaining: 8.57s\n",
      "731:\tlearn: 0.5461340\ttotal: 23.3s\tremaining: 8.54s\n",
      "732:\tlearn: 0.5460535\ttotal: 23.4s\tremaining: 8.51s\n",
      "733:\tlearn: 0.5459307\ttotal: 23.4s\tremaining: 8.48s\n",
      "734:\tlearn: 0.5458341\ttotal: 23.4s\tremaining: 8.45s\n",
      "735:\tlearn: 0.5457819\ttotal: 23.5s\tremaining: 8.42s\n",
      "736:\tlearn: 0.5456690\ttotal: 23.5s\tremaining: 8.39s\n",
      "737:\tlearn: 0.5455792\ttotal: 23.6s\tremaining: 8.36s\n",
      "738:\tlearn: 0.5454877\ttotal: 23.6s\tremaining: 8.33s\n",
      "739:\tlearn: 0.5454007\ttotal: 23.6s\tremaining: 8.3s\n",
      "740:\tlearn: 0.5453158\ttotal: 23.7s\tremaining: 8.27s\n",
      "741:\tlearn: 0.5452302\ttotal: 23.7s\tremaining: 8.24s\n",
      "742:\tlearn: 0.5451611\ttotal: 23.8s\tremaining: 8.21s\n",
      "743:\tlearn: 0.5450824\ttotal: 23.8s\tremaining: 8.18s\n",
      "744:\tlearn: 0.5450313\ttotal: 23.8s\tremaining: 8.15s\n",
      "745:\tlearn: 0.5449901\ttotal: 23.8s\tremaining: 8.12s\n",
      "746:\tlearn: 0.5449542\ttotal: 23.9s\tremaining: 8.09s\n",
      "747:\tlearn: 0.5448465\ttotal: 23.9s\tremaining: 8.06s\n",
      "748:\tlearn: 0.5447836\ttotal: 23.9s\tremaining: 8.03s\n",
      "749:\tlearn: 0.5446929\ttotal: 24s\tremaining: 7.99s\n",
      "750:\tlearn: 0.5445876\ttotal: 24s\tremaining: 7.96s\n",
      "751:\tlearn: 0.5445420\ttotal: 24s\tremaining: 7.93s\n",
      "752:\tlearn: 0.5444677\ttotal: 24.1s\tremaining: 7.9s\n",
      "753:\tlearn: 0.5443541\ttotal: 24.1s\tremaining: 7.87s\n",
      "754:\tlearn: 0.5442830\ttotal: 24.1s\tremaining: 7.83s\n",
      "755:\tlearn: 0.5441972\ttotal: 24.2s\tremaining: 7.8s\n",
      "756:\tlearn: 0.5441217\ttotal: 24.2s\tremaining: 7.77s\n",
      "757:\tlearn: 0.5440490\ttotal: 24.2s\tremaining: 7.74s\n",
      "758:\tlearn: 0.5439979\ttotal: 24.3s\tremaining: 7.7s\n",
      "759:\tlearn: 0.5438729\ttotal: 24.3s\tremaining: 7.67s\n",
      "760:\tlearn: 0.5438065\ttotal: 24.3s\tremaining: 7.64s\n",
      "761:\tlearn: 0.5436876\ttotal: 24.4s\tremaining: 7.61s\n",
      "762:\tlearn: 0.5436465\ttotal: 24.4s\tremaining: 7.58s\n",
      "763:\tlearn: 0.5435525\ttotal: 24.4s\tremaining: 7.54s\n",
      "764:\tlearn: 0.5434602\ttotal: 24.5s\tremaining: 7.51s\n",
      "765:\tlearn: 0.5433747\ttotal: 24.5s\tremaining: 7.48s\n",
      "766:\tlearn: 0.5432837\ttotal: 24.5s\tremaining: 7.45s\n",
      "767:\tlearn: 0.5432230\ttotal: 24.5s\tremaining: 7.41s\n",
      "768:\tlearn: 0.5431476\ttotal: 24.6s\tremaining: 7.38s\n",
      "769:\tlearn: 0.5430763\ttotal: 24.6s\tremaining: 7.35s\n",
      "770:\tlearn: 0.5429855\ttotal: 24.6s\tremaining: 7.32s\n",
      "771:\tlearn: 0.5429093\ttotal: 24.7s\tremaining: 7.29s\n",
      "772:\tlearn: 0.5428642\ttotal: 24.7s\tremaining: 7.25s\n",
      "773:\tlearn: 0.5428119\ttotal: 24.7s\tremaining: 7.22s\n",
      "774:\tlearn: 0.5427809\ttotal: 24.8s\tremaining: 7.19s\n",
      "775:\tlearn: 0.5427282\ttotal: 24.8s\tremaining: 7.16s\n",
      "776:\tlearn: 0.5426731\ttotal: 24.8s\tremaining: 7.12s\n",
      "777:\tlearn: 0.5425736\ttotal: 24.8s\tremaining: 7.09s\n",
      "778:\tlearn: 0.5424585\ttotal: 24.9s\tremaining: 7.06s\n",
      "779:\tlearn: 0.5423693\ttotal: 24.9s\tremaining: 7.03s\n",
      "780:\tlearn: 0.5422855\ttotal: 24.9s\tremaining: 6.99s\n",
      "781:\tlearn: 0.5422473\ttotal: 25s\tremaining: 6.96s\n",
      "782:\tlearn: 0.5421553\ttotal: 25s\tremaining: 6.93s\n",
      "783:\tlearn: 0.5420896\ttotal: 25s\tremaining: 6.89s\n",
      "784:\tlearn: 0.5420038\ttotal: 25.1s\tremaining: 6.86s\n",
      "785:\tlearn: 0.5419777\ttotal: 25.1s\tremaining: 6.83s\n",
      "786:\tlearn: 0.5419119\ttotal: 25.1s\tremaining: 6.8s\n",
      "787:\tlearn: 0.5418211\ttotal: 25.2s\tremaining: 6.77s\n",
      "788:\tlearn: 0.5417239\ttotal: 25.2s\tremaining: 6.74s\n",
      "789:\tlearn: 0.5416588\ttotal: 25.2s\tremaining: 6.7s\n",
      "790:\tlearn: 0.5415993\ttotal: 25.3s\tremaining: 6.67s\n",
      "791:\tlearn: 0.5415627\ttotal: 25.3s\tremaining: 6.64s\n",
      "792:\tlearn: 0.5414671\ttotal: 25.3s\tremaining: 6.61s\n",
      "793:\tlearn: 0.5413578\ttotal: 25.3s\tremaining: 6.58s\n",
      "794:\tlearn: 0.5412960\ttotal: 25.4s\tremaining: 6.54s\n",
      "795:\tlearn: 0.5412321\ttotal: 25.4s\tremaining: 6.51s\n",
      "796:\tlearn: 0.5411888\ttotal: 25.4s\tremaining: 6.48s\n",
      "797:\tlearn: 0.5411684\ttotal: 25.5s\tremaining: 6.45s\n",
      "798:\tlearn: 0.5410496\ttotal: 25.5s\tremaining: 6.42s\n",
      "799:\tlearn: 0.5409841\ttotal: 25.5s\tremaining: 6.38s\n",
      "800:\tlearn: 0.5408659\ttotal: 25.6s\tremaining: 6.35s\n",
      "801:\tlearn: 0.5408238\ttotal: 25.6s\tremaining: 6.32s\n",
      "802:\tlearn: 0.5407590\ttotal: 25.6s\tremaining: 6.29s\n",
      "803:\tlearn: 0.5406798\ttotal: 25.7s\tremaining: 6.25s\n",
      "804:\tlearn: 0.5405827\ttotal: 25.7s\tremaining: 6.22s\n",
      "805:\tlearn: 0.5405053\ttotal: 25.7s\tremaining: 6.19s\n",
      "806:\tlearn: 0.5404068\ttotal: 25.8s\tremaining: 6.16s\n",
      "807:\tlearn: 0.5403279\ttotal: 25.8s\tremaining: 6.13s\n",
      "808:\tlearn: 0.5402551\ttotal: 25.8s\tremaining: 6.1s\n",
      "809:\tlearn: 0.5402055\ttotal: 25.9s\tremaining: 6.06s\n",
      "810:\tlearn: 0.5401472\ttotal: 25.9s\tremaining: 6.03s\n",
      "811:\tlearn: 0.5400937\ttotal: 25.9s\tremaining: 6s\n"
     ]
    },
    {
     "name": "stdout",
     "output_type": "stream",
     "text": [
      "812:\tlearn: 0.5400043\ttotal: 25.9s\tremaining: 5.97s\n",
      "813:\tlearn: 0.5399064\ttotal: 26s\tremaining: 5.94s\n",
      "814:\tlearn: 0.5398326\ttotal: 26s\tremaining: 5.9s\n",
      "815:\tlearn: 0.5397431\ttotal: 26s\tremaining: 5.87s\n",
      "816:\tlearn: 0.5396777\ttotal: 26.1s\tremaining: 5.84s\n",
      "817:\tlearn: 0.5396102\ttotal: 26.1s\tremaining: 5.81s\n",
      "818:\tlearn: 0.5394966\ttotal: 26.1s\tremaining: 5.77s\n",
      "819:\tlearn: 0.5394329\ttotal: 26.2s\tremaining: 5.74s\n",
      "820:\tlearn: 0.5393566\ttotal: 26.2s\tremaining: 5.71s\n",
      "821:\tlearn: 0.5392954\ttotal: 26.2s\tremaining: 5.68s\n",
      "822:\tlearn: 0.5391897\ttotal: 26.3s\tremaining: 5.65s\n",
      "823:\tlearn: 0.5391015\ttotal: 26.3s\tremaining: 5.61s\n",
      "824:\tlearn: 0.5390333\ttotal: 26.3s\tremaining: 5.58s\n",
      "825:\tlearn: 0.5389671\ttotal: 26.3s\tremaining: 5.55s\n",
      "826:\tlearn: 0.5389349\ttotal: 26.4s\tremaining: 5.52s\n",
      "827:\tlearn: 0.5388329\ttotal: 26.4s\tremaining: 5.49s\n",
      "828:\tlearn: 0.5387513\ttotal: 26.4s\tremaining: 5.46s\n",
      "829:\tlearn: 0.5387051\ttotal: 26.5s\tremaining: 5.42s\n",
      "830:\tlearn: 0.5386335\ttotal: 26.5s\tremaining: 5.39s\n",
      "831:\tlearn: 0.5385037\ttotal: 26.5s\tremaining: 5.36s\n",
      "832:\tlearn: 0.5384494\ttotal: 26.6s\tremaining: 5.33s\n",
      "833:\tlearn: 0.5383989\ttotal: 26.6s\tremaining: 5.29s\n",
      "834:\tlearn: 0.5383253\ttotal: 26.6s\tremaining: 5.26s\n",
      "835:\tlearn: 0.5382476\ttotal: 26.7s\tremaining: 5.23s\n",
      "836:\tlearn: 0.5381960\ttotal: 26.7s\tremaining: 5.2s\n",
      "837:\tlearn: 0.5381350\ttotal: 26.7s\tremaining: 5.17s\n",
      "838:\tlearn: 0.5380172\ttotal: 26.7s\tremaining: 5.13s\n",
      "839:\tlearn: 0.5379303\ttotal: 26.8s\tremaining: 5.1s\n",
      "840:\tlearn: 0.5378361\ttotal: 26.8s\tremaining: 5.07s\n",
      "841:\tlearn: 0.5377829\ttotal: 26.8s\tremaining: 5.04s\n",
      "842:\tlearn: 0.5377356\ttotal: 26.9s\tremaining: 5s\n",
      "843:\tlearn: 0.5376580\ttotal: 26.9s\tremaining: 4.97s\n",
      "844:\tlearn: 0.5375656\ttotal: 26.9s\tremaining: 4.94s\n",
      "845:\tlearn: 0.5375199\ttotal: 27s\tremaining: 4.91s\n",
      "846:\tlearn: 0.5374406\ttotal: 27s\tremaining: 4.88s\n",
      "847:\tlearn: 0.5373219\ttotal: 27s\tremaining: 4.84s\n",
      "848:\tlearn: 0.5372483\ttotal: 27.1s\tremaining: 4.81s\n",
      "849:\tlearn: 0.5372179\ttotal: 27.1s\tremaining: 4.78s\n",
      "850:\tlearn: 0.5369911\ttotal: 27.1s\tremaining: 4.75s\n",
      "851:\tlearn: 0.5369211\ttotal: 27.1s\tremaining: 4.71s\n",
      "852:\tlearn: 0.5368870\ttotal: 27.2s\tremaining: 4.68s\n",
      "853:\tlearn: 0.5368619\ttotal: 27.2s\tremaining: 4.65s\n",
      "854:\tlearn: 0.5367686\ttotal: 27.2s\tremaining: 4.62s\n",
      "855:\tlearn: 0.5367168\ttotal: 27.3s\tremaining: 4.59s\n",
      "856:\tlearn: 0.5366877\ttotal: 27.3s\tremaining: 4.56s\n",
      "857:\tlearn: 0.5365718\ttotal: 27.3s\tremaining: 4.53s\n",
      "858:\tlearn: 0.5365079\ttotal: 27.4s\tremaining: 4.49s\n",
      "859:\tlearn: 0.5364226\ttotal: 27.4s\tremaining: 4.46s\n",
      "860:\tlearn: 0.5363692\ttotal: 27.4s\tremaining: 4.43s\n",
      "861:\tlearn: 0.5362651\ttotal: 27.5s\tremaining: 4.4s\n",
      "862:\tlearn: 0.5361550\ttotal: 27.5s\tremaining: 4.37s\n",
      "863:\tlearn: 0.5360992\ttotal: 27.5s\tremaining: 4.33s\n",
      "864:\tlearn: 0.5360022\ttotal: 27.6s\tremaining: 4.3s\n",
      "865:\tlearn: 0.5359442\ttotal: 27.6s\tremaining: 4.27s\n",
      "866:\tlearn: 0.5358508\ttotal: 27.6s\tremaining: 4.24s\n",
      "867:\tlearn: 0.5358311\ttotal: 27.7s\tremaining: 4.21s\n",
      "868:\tlearn: 0.5357447\ttotal: 27.7s\tremaining: 4.17s\n",
      "869:\tlearn: 0.5356802\ttotal: 27.7s\tremaining: 4.14s\n",
      "870:\tlearn: 0.5356251\ttotal: 27.8s\tremaining: 4.11s\n",
      "871:\tlearn: 0.5356081\ttotal: 27.8s\tremaining: 4.08s\n",
      "872:\tlearn: 0.5355530\ttotal: 27.8s\tremaining: 4.05s\n",
      "873:\tlearn: 0.5354906\ttotal: 27.8s\tremaining: 4.01s\n",
      "874:\tlearn: 0.5354542\ttotal: 27.9s\tremaining: 3.98s\n",
      "875:\tlearn: 0.5353447\ttotal: 27.9s\tremaining: 3.95s\n",
      "876:\tlearn: 0.5352208\ttotal: 27.9s\tremaining: 3.92s\n",
      "877:\tlearn: 0.5351830\ttotal: 28s\tremaining: 3.89s\n",
      "878:\tlearn: 0.5351275\ttotal: 28s\tremaining: 3.85s\n",
      "879:\tlearn: 0.5350643\ttotal: 28s\tremaining: 3.82s\n",
      "880:\tlearn: 0.5349927\ttotal: 28.1s\tremaining: 3.79s\n",
      "881:\tlearn: 0.5349595\ttotal: 28.1s\tremaining: 3.76s\n",
      "882:\tlearn: 0.5348493\ttotal: 28.1s\tremaining: 3.73s\n",
      "883:\tlearn: 0.5347549\ttotal: 28.1s\tremaining: 3.69s\n",
      "884:\tlearn: 0.5346562\ttotal: 28.2s\tremaining: 3.66s\n",
      "885:\tlearn: 0.5345776\ttotal: 28.2s\tremaining: 3.63s\n",
      "886:\tlearn: 0.5345426\ttotal: 28.2s\tremaining: 3.6s\n",
      "887:\tlearn: 0.5345084\ttotal: 28.3s\tremaining: 3.56s\n",
      "888:\tlearn: 0.5344555\ttotal: 28.3s\tremaining: 3.53s\n",
      "889:\tlearn: 0.5344051\ttotal: 28.3s\tremaining: 3.5s\n",
      "890:\tlearn: 0.5343716\ttotal: 28.3s\tremaining: 3.47s\n",
      "891:\tlearn: 0.5342940\ttotal: 28.4s\tremaining: 3.44s\n",
      "892:\tlearn: 0.5341763\ttotal: 28.4s\tremaining: 3.4s\n",
      "893:\tlearn: 0.5341196\ttotal: 28.4s\tremaining: 3.37s\n",
      "894:\tlearn: 0.5340697\ttotal: 28.5s\tremaining: 3.34s\n",
      "895:\tlearn: 0.5340533\ttotal: 28.5s\tremaining: 3.31s\n",
      "896:\tlearn: 0.5339799\ttotal: 28.5s\tremaining: 3.27s\n",
      "897:\tlearn: 0.5338910\ttotal: 28.6s\tremaining: 3.24s\n",
      "898:\tlearn: 0.5338126\ttotal: 28.6s\tremaining: 3.21s\n",
      "899:\tlearn: 0.5337247\ttotal: 28.6s\tremaining: 3.18s\n",
      "900:\tlearn: 0.5337078\ttotal: 28.6s\tremaining: 3.15s\n",
      "901:\tlearn: 0.5336450\ttotal: 28.7s\tremaining: 3.12s\n",
      "902:\tlearn: 0.5335896\ttotal: 28.7s\tremaining: 3.08s\n",
      "903:\tlearn: 0.5335657\ttotal: 28.7s\tremaining: 3.05s\n",
      "904:\tlearn: 0.5335234\ttotal: 28.8s\tremaining: 3.02s\n",
      "905:\tlearn: 0.5334188\ttotal: 28.8s\tremaining: 2.99s\n",
      "906:\tlearn: 0.5333770\ttotal: 28.8s\tremaining: 2.96s\n",
      "907:\tlearn: 0.5332487\ttotal: 28.8s\tremaining: 2.92s\n",
      "908:\tlearn: 0.5331726\ttotal: 28.9s\tremaining: 2.89s\n",
      "909:\tlearn: 0.5330959\ttotal: 28.9s\tremaining: 2.86s\n",
      "910:\tlearn: 0.5330460\ttotal: 28.9s\tremaining: 2.83s\n",
      "911:\tlearn: 0.5329720\ttotal: 29s\tremaining: 2.79s\n",
      "912:\tlearn: 0.5329057\ttotal: 29s\tremaining: 2.76s\n",
      "913:\tlearn: 0.5328422\ttotal: 29s\tremaining: 2.73s\n",
      "914:\tlearn: 0.5327906\ttotal: 29.1s\tremaining: 2.7s\n",
      "915:\tlearn: 0.5326754\ttotal: 29.1s\tremaining: 2.67s\n",
      "916:\tlearn: 0.5326039\ttotal: 29.1s\tremaining: 2.63s\n",
      "917:\tlearn: 0.5325395\ttotal: 29.1s\tremaining: 2.6s\n",
      "918:\tlearn: 0.5324586\ttotal: 29.2s\tremaining: 2.57s\n",
      "919:\tlearn: 0.5324338\ttotal: 29.2s\tremaining: 2.54s\n",
      "920:\tlearn: 0.5323855\ttotal: 29.2s\tremaining: 2.51s\n",
      "921:\tlearn: 0.5322604\ttotal: 29.3s\tremaining: 2.48s\n",
      "922:\tlearn: 0.5321903\ttotal: 29.3s\tremaining: 2.44s\n",
      "923:\tlearn: 0.5321198\ttotal: 29.3s\tremaining: 2.41s\n",
      "924:\tlearn: 0.5320239\ttotal: 29.4s\tremaining: 2.38s\n",
      "925:\tlearn: 0.5319315\ttotal: 29.4s\tremaining: 2.35s\n",
      "926:\tlearn: 0.5318549\ttotal: 29.4s\tremaining: 2.32s\n",
      "927:\tlearn: 0.5317590\ttotal: 29.5s\tremaining: 2.29s\n",
      "928:\tlearn: 0.5317147\ttotal: 29.5s\tremaining: 2.25s\n",
      "929:\tlearn: 0.5316017\ttotal: 29.5s\tremaining: 2.22s\n",
      "930:\tlearn: 0.5315388\ttotal: 29.6s\tremaining: 2.19s\n",
      "931:\tlearn: 0.5314140\ttotal: 29.6s\tremaining: 2.16s\n",
      "932:\tlearn: 0.5313686\ttotal: 29.6s\tremaining: 2.13s\n",
      "933:\tlearn: 0.5312830\ttotal: 29.7s\tremaining: 2.1s\n",
      "934:\tlearn: 0.5312190\ttotal: 29.7s\tremaining: 2.06s\n",
      "935:\tlearn: 0.5311999\ttotal: 29.7s\tremaining: 2.03s\n",
      "936:\tlearn: 0.5311606\ttotal: 29.8s\tremaining: 2s\n",
      "937:\tlearn: 0.5311129\ttotal: 29.8s\tremaining: 1.97s\n",
      "938:\tlearn: 0.5310576\ttotal: 29.8s\tremaining: 1.94s\n",
      "939:\tlearn: 0.5310092\ttotal: 29.9s\tremaining: 1.91s\n",
      "940:\tlearn: 0.5309314\ttotal: 29.9s\tremaining: 1.87s\n",
      "941:\tlearn: 0.5308161\ttotal: 29.9s\tremaining: 1.84s\n",
      "942:\tlearn: 0.5307472\ttotal: 30s\tremaining: 1.81s\n",
      "943:\tlearn: 0.5306616\ttotal: 30s\tremaining: 1.78s\n",
      "944:\tlearn: 0.5306368\ttotal: 30s\tremaining: 1.75s\n",
      "945:\tlearn: 0.5305832\ttotal: 30.1s\tremaining: 1.72s\n",
      "946:\tlearn: 0.5305037\ttotal: 30.1s\tremaining: 1.69s\n",
      "947:\tlearn: 0.5304497\ttotal: 30.2s\tremaining: 1.65s\n",
      "948:\tlearn: 0.5303866\ttotal: 30.2s\tremaining: 1.62s\n",
      "949:\tlearn: 0.5302787\ttotal: 30.2s\tremaining: 1.59s\n",
      "950:\tlearn: 0.5302459\ttotal: 30.3s\tremaining: 1.56s\n",
      "951:\tlearn: 0.5301935\ttotal: 30.3s\tremaining: 1.53s\n",
      "952:\tlearn: 0.5301611\ttotal: 30.3s\tremaining: 1.5s\n",
      "953:\tlearn: 0.5301068\ttotal: 30.4s\tremaining: 1.47s\n",
      "954:\tlearn: 0.5300306\ttotal: 30.4s\tremaining: 1.43s\n",
      "955:\tlearn: 0.5299340\ttotal: 30.5s\tremaining: 1.4s\n",
      "956:\tlearn: 0.5298837\ttotal: 30.5s\tremaining: 1.37s\n",
      "957:\tlearn: 0.5298199\ttotal: 30.5s\tremaining: 1.34s\n",
      "958:\tlearn: 0.5298018\ttotal: 30.6s\tremaining: 1.31s\n",
      "959:\tlearn: 0.5296924\ttotal: 30.6s\tremaining: 1.27s\n",
      "960:\tlearn: 0.5296511\ttotal: 30.6s\tremaining: 1.24s\n",
      "961:\tlearn: 0.5296391\ttotal: 30.7s\tremaining: 1.21s\n",
      "962:\tlearn: 0.5295729\ttotal: 30.7s\tremaining: 1.18s\n",
      "963:\tlearn: 0.5294838\ttotal: 30.7s\tremaining: 1.15s\n",
      "964:\tlearn: 0.5294693\ttotal: 30.8s\tremaining: 1.11s\n",
      "965:\tlearn: 0.5293767\ttotal: 30.8s\tremaining: 1.08s\n",
      "966:\tlearn: 0.5293176\ttotal: 30.8s\tremaining: 1.05s\n",
      "967:\tlearn: 0.5292372\ttotal: 30.8s\tremaining: 1.02s\n",
      "968:\tlearn: 0.5292073\ttotal: 30.9s\tremaining: 988ms\n",
      "969:\tlearn: 0.5291326\ttotal: 30.9s\tremaining: 956ms\n",
      "970:\tlearn: 0.5291033\ttotal: 30.9s\tremaining: 924ms\n",
      "971:\tlearn: 0.5290540\ttotal: 31s\tremaining: 892ms\n",
      "972:\tlearn: 0.5290093\ttotal: 31s\tremaining: 860ms\n",
      "973:\tlearn: 0.5289849\ttotal: 31s\tremaining: 829ms\n",
      "974:\tlearn: 0.5289299\ttotal: 31.1s\tremaining: 797ms\n",
      "975:\tlearn: 0.5288331\ttotal: 31.1s\tremaining: 765ms\n"
     ]
    },
    {
     "name": "stdout",
     "output_type": "stream",
     "text": [
      "976:\tlearn: 0.5287645\ttotal: 31.1s\tremaining: 733ms\n",
      "977:\tlearn: 0.5287307\ttotal: 31.2s\tremaining: 701ms\n",
      "978:\tlearn: 0.5286354\ttotal: 31.2s\tremaining: 669ms\n",
      "979:\tlearn: 0.5285526\ttotal: 31.2s\tremaining: 637ms\n",
      "980:\tlearn: 0.5284847\ttotal: 31.2s\tremaining: 605ms\n",
      "981:\tlearn: 0.5284163\ttotal: 31.3s\tremaining: 573ms\n",
      "982:\tlearn: 0.5283676\ttotal: 31.3s\tremaining: 541ms\n",
      "983:\tlearn: 0.5283365\ttotal: 31.4s\tremaining: 510ms\n",
      "984:\tlearn: 0.5282657\ttotal: 31.4s\tremaining: 478ms\n",
      "985:\tlearn: 0.5281936\ttotal: 31.4s\tremaining: 446ms\n",
      "986:\tlearn: 0.5281378\ttotal: 31.4s\tremaining: 414ms\n",
      "987:\tlearn: 0.5280804\ttotal: 31.5s\tremaining: 382ms\n",
      "988:\tlearn: 0.5280009\ttotal: 31.5s\tremaining: 350ms\n",
      "989:\tlearn: 0.5278937\ttotal: 31.5s\tremaining: 319ms\n",
      "990:\tlearn: 0.5278076\ttotal: 31.6s\tremaining: 287ms\n",
      "991:\tlearn: 0.5277565\ttotal: 31.6s\tremaining: 255ms\n",
      "992:\tlearn: 0.5277011\ttotal: 31.6s\tremaining: 223ms\n",
      "993:\tlearn: 0.5276384\ttotal: 31.7s\tremaining: 191ms\n",
      "994:\tlearn: 0.5276105\ttotal: 31.7s\tremaining: 159ms\n",
      "995:\tlearn: 0.5275350\ttotal: 31.7s\tremaining: 127ms\n",
      "996:\tlearn: 0.5274554\ttotal: 31.8s\tremaining: 95.6ms\n",
      "997:\tlearn: 0.5273991\ttotal: 31.8s\tremaining: 63.7ms\n",
      "998:\tlearn: 0.5273358\ttotal: 31.8s\tremaining: 31.9ms\n",
      "999:\tlearn: 0.5272437\ttotal: 31.9s\tremaining: 0us\n",
      "CPU times: total: 21.5 s\n",
      "Wall time: 40.9 s\n"
     ]
    }
   ],
   "source": [
    "%%time\n",
    "from catboost import CatBoostClassifier\n",
    "start = time.time()\n",
    "from sklearn.metrics import accuracy_score,classification_report\n",
    "model_4 = CatBoostClassifier().fit(X_train, y_train)\n",
    "end_train = time.time()\n",
    "y_pred4= model_4.predict(X_test)\n",
    "end_predict = time.time()"
   ]
  },
  {
   "cell_type": "code",
   "execution_count": 38,
   "id": "06fa0b0d",
   "metadata": {},
   "outputs": [
    {
     "name": "stdout",
     "output_type": "stream",
     "text": [
      "Accuracy: 65.83%\n",
      "Recall: 65.83%\n",
      "Precision: 65.93%\n",
      "F1-Score: 63.76%\n",
      "time to train: 38.98 s\n",
      "time to predict: 1.80 s\n",
      "total: 40.77 s\n"
     ]
    }
   ],
   "source": [
    "from sklearn.metrics import f1_score, precision_score, recall_score, classification_report, confusion_matrix,accuracy_score\n",
    "accuracy = accuracy_score(y_test, y_pred4)\n",
    "recall = recall_score(y_test, y_pred4, average='weighted')\n",
    "precision = precision_score(y_test, y_pred4, average='weighted')\n",
    "f1s = f1_score(y_test, y_pred4, average='weighted')\n",
    "\n",
    "print(\"Accuracy: \"+ \"{:.2%}\".format(accuracy))\n",
    "print(\"Recall: \"+ \"{:.2%}\".format(recall))\n",
    "print(\"Precision: \"+ \"{:.2%}\".format(precision))\n",
    "print(\"F1-Score: \"+ \"{:.2%}\".format(f1s))\n",
    "print(\"time to train: \"+ \"{:.2f}\".format(end_train-start)+\" s\")\n",
    "print(\"time to predict: \"+\"{:.2f}\".format(end_predict-end_train)+\" s\")\n",
    "print(\"total: \"+\"{:.2f}\".format(end_predict-start)+\" s\")\n",
    "model_performance.loc['Cat-Boost'] = [accuracy, recall, precision, f1s,end_train-start,end_predict-end_train,end_predict-start]"
   ]
  },
  {
   "cell_type": "code",
   "execution_count": 39,
   "id": "db08e8f7",
   "metadata": {},
   "outputs": [
    {
     "data": {
      "image/png": "[encoded data removed]",
      "text/plain": [
       "<Figure size 500x500 with 2 Axes>"
      ]
     },
     "metadata": {},
     "output_type": "display_data"
    }
   ],
   "source": [
    "plt.rcParams['figure.figsize']=5,5 \n",
    "sns.set_style(\"white\")\n",
    "plot_confusion_matrix(model_4, X_test, y_test, cmap=plt.cm.Blues)  \n",
    "plt.show()"
   ]
  },
  {
   "cell_type": "markdown",
   "id": "697fd6dc",
   "metadata": {},
   "source": [
    "### K Nearest Neighbours --> 59%"
   ]
  },
  {
   "cell_type": "code",
   "execution_count": 40,
   "id": "ed26eb8d",
   "metadata": {},
   "outputs": [
    {
     "name": "stdout",
     "output_type": "stream",
     "text": [
      "CPU times: total: 18.9 s\n",
      "Wall time: 1.5 s\n"
     ]
    }
   ],
   "source": [
    "%%time\n",
    "from sklearn.neighbors import KNeighborsClassifier\n",
    "start = time.time()\n",
    "from sklearn.metrics import accuracy_score,classification_report\n",
    "model_5 = KNeighborsClassifier(n_neighbors=10).fit(X_train, y_train)\n",
    "end_train = time.time()\n",
    "y_pred5= model_5.predict(X_test)\n",
    "end_predict = time.time()"
   ]
  },
  {
   "cell_type": "code",
   "execution_count": 41,
   "id": "cd91daec",
   "metadata": {},
   "outputs": [
    {
     "name": "stdout",
     "output_type": "stream",
     "text": [
      "Accuracy: 59.35%\n",
      "Recall: 59.35%\n",
      "Precision: 58.16%\n",
      "F1-Score: 54.27%\n",
      "time to train: 0.04 s\n",
      "time to predict: 1.46 s\n",
      "total: 1.50 s\n"
     ]
    }
   ],
   "source": [
    "from sklearn.metrics import f1_score, precision_score, recall_score, classification_report, confusion_matrix,accuracy_score\n",
    "accuracy = accuracy_score(y_test, y_pred5)\n",
    "recall = recall_score(y_test, y_pred5, average='weighted')\n",
    "precision = precision_score(y_test, y_pred5, average='weighted')\n",
    "f1s = f1_score(y_test, y_pred5, average='weighted')\n",
    "\n",
    "print(\"Accuracy: \"+ \"{:.2%}\".format(accuracy))\n",
    "print(\"Recall: \"+ \"{:.2%}\".format(recall))\n",
    "print(\"Precision: \"+ \"{:.2%}\".format(precision))\n",
    "print(\"F1-Score: \"+ \"{:.2%}\".format(f1s))\n",
    "print(\"time to train: \"+ \"{:.2f}\".format(end_train-start)+\" s\")\n",
    "print(\"time to predict: \"+\"{:.2f}\".format(end_predict-end_train)+\" s\")\n",
    "print(\"total: \"+\"{:.2f}\".format(end_predict-start)+\" s\")\n",
    "model_performance.loc['K-Nearest Neighbors'] = [accuracy, recall, precision, f1s,end_train-start,end_predict-end_train,end_predict-start]"
   ]
  },
  {
   "cell_type": "code",
   "execution_count": 42,
   "id": "4fdab6d1",
   "metadata": {},
   "outputs": [
    {
     "data": {
      "image/png": "[encoded data removed]",
      "text/plain": [
       "<Figure size 500x500 with 2 Axes>"
      ]
     },
     "metadata": {},
     "output_type": "display_data"
    }
   ],
   "source": [
    "plt.rcParams['figure.figsize']=5,5 \n",
    "sns.set_style(\"white\")\n",
    "plot_confusion_matrix(model_5, X_test, y_test, cmap=plt.cm.Blues)  \n",
    "plt.show()"
   ]
  },
  {
   "cell_type": "markdown",
   "id": "a7463a37",
   "metadata": {},
   "source": [
    "### DecisionTree --> 58%"
   ]
  },
  {
   "cell_type": "code",
   "execution_count": 43,
   "id": "e84821b2",
   "metadata": {},
   "outputs": [
    {
     "name": "stdout",
     "output_type": "stream",
     "text": [
      "CPU times: total: 781 ms\n",
      "Wall time: 1.36 s\n"
     ]
    }
   ],
   "source": [
    "%%time\n",
    "from sklearn.tree import DecisionTreeClassifier\n",
    "start = time.time()\n",
    "from sklearn.metrics import accuracy_score,classification_report\n",
    "model_6 = DecisionTreeClassifier(criterion='gini', max_depth=4, random_state=0).fit(X_train, y_train)\n",
    "end_train = time.time()\n",
    "y_pred6= model_6.predict(X_test)\n",
    "end_predict = time.time()"
   ]
  },
  {
   "cell_type": "code",
   "execution_count": 44,
   "id": "9a10933a",
   "metadata": {},
   "outputs": [
    {
     "name": "stdout",
     "output_type": "stream",
     "text": [
      "Accuracy: 58.70%\n",
      "Recall: 58.70%\n",
      "Precision: 74.33%\n",
      "F1-Score: 44.72%\n",
      "time to train: 1.34 s\n",
      "time to predict: 0.02 s\n",
      "total: 1.36 s\n"
     ]
    }
   ],
   "source": [
    "from sklearn.metrics import f1_score, precision_score, recall_score, classification_report, confusion_matrix,accuracy_score\n",
    "accuracy = accuracy_score(y_test, y_pred6)\n",
    "recall = recall_score(y_test, y_pred6, average='weighted')\n",
    "precision = precision_score(y_test, y_pred6, average='weighted')\n",
    "f1s = f1_score(y_test, y_pred6, average='weighted')\n",
    "\n",
    "print(\"Accuracy: \"+ \"{:.2%}\".format(accuracy))\n",
    "print(\"Recall: \"+ \"{:.2%}\".format(recall))\n",
    "print(\"Precision: \"+ \"{:.2%}\".format(precision))\n",
    "print(\"F1-Score: \"+ \"{:.2%}\".format(f1s))\n",
    "print(\"time to train: \"+ \"{:.2f}\".format(end_train-start)+\" s\")\n",
    "print(\"time to predict: \"+\"{:.2f}\".format(end_predict-end_train)+\" s\")\n",
    "print(\"total: \"+\"{:.2f}\".format(end_predict-start)+\" s\")\n",
    "model_performance.loc['Decision Tree'] = [accuracy, recall, precision, f1s,end_train-start,end_predict-end_train,end_predict-start]"
   ]
  },
  {
   "cell_type": "code",
   "execution_count": 45,
   "id": "beb2f90e",
   "metadata": {},
   "outputs": [
    {
     "data": {
      "image/png": "[encoded data removed]",
      "text/plain": [
       "<Figure size 500x500 with 2 Axes>"
      ]
     },
     "metadata": {},
     "output_type": "display_data"
    }
   ],
   "source": [
    "plt.rcParams['figure.figsize']=5,5 \n",
    "sns.set_style(\"white\")\n",
    "plot_confusion_matrix(model_6, X_test, y_test, cmap=plt.cm.Blues)  \n",
    "plt.show()"
   ]
  },
  {
   "cell_type": "markdown",
   "id": "be2047e3",
   "metadata": {},
   "source": [
    "### AdaBoostClassifier --> 63%"
   ]
  },
  {
   "cell_type": "code",
   "execution_count": 46,
   "id": "9dbf87e2",
   "metadata": {},
   "outputs": [
    {
     "name": "stdout",
     "output_type": "stream",
     "text": [
      "CPU times: total: 18.4 s\n",
      "Wall time: 49.7 s\n"
     ]
    }
   ],
   "source": [
    "%%time\n",
    "from sklearn.ensemble import AdaBoostClassifier\n",
    "start = time.time()\n",
    "from sklearn.metrics import accuracy_score,classification_report\n",
    "model_7 = AdaBoostClassifier(n_estimators=100, learning_rate=0.5, random_state=0).fit(X_train, y_train)\n",
    "end_train = time.time()\n",
    "y_pred7= model_7.predict(X_test)\n",
    "end_predict = time.time()"
   ]
  },
  {
   "cell_type": "code",
   "execution_count": 47,
   "id": "803ad1bc",
   "metadata": {},
   "outputs": [
    {
     "name": "stdout",
     "output_type": "stream",
     "text": [
      "Accuracy: 63.42%\n",
      "Recall: 63.42%\n",
      "Precision: 69.01%\n",
      "F1-Score: 56.24%\n",
      "time to train: 47.87 s\n",
      "time to predict: 1.87 s\n",
      "total: 49.75 s\n"
     ]
    }
   ],
   "source": [
    "from sklearn.metrics import f1_score, precision_score, recall_score, classification_report, confusion_matrix,accuracy_score\n",
    "accuracy = accuracy_score(y_test, y_pred7)\n",
    "recall = recall_score(y_test, y_pred7, average='weighted')\n",
    "precision = precision_score(y_test, y_pred7, average='weighted')\n",
    "f1s = f1_score(y_test, y_pred7, average='weighted')\n",
    "\n",
    "print(\"Accuracy: \"+ \"{:.2%}\".format(accuracy))\n",
    "print(\"Recall: \"+ \"{:.2%}\".format(recall))\n",
    "print(\"Precision: \"+ \"{:.2%}\".format(precision))\n",
    "print(\"F1-Score: \"+ \"{:.2%}\".format(f1s))\n",
    "print(\"time to train: \"+ \"{:.2f}\".format(end_train-start)+\" s\")\n",
    "print(\"time to predict: \"+\"{:.2f}\".format(end_predict-end_train)+\" s\")\n",
    "print(\"total: \"+\"{:.2f}\".format(end_predict-start)+\" s\")\n",
    "model_performance.loc['AdaBoost'] = [accuracy, recall, precision, f1s,end_train-start,end_predict-end_train,end_predict-start]"
   ]
  },
  {
   "cell_type": "code",
   "execution_count": 48,
   "id": "226b78f7",
   "metadata": {},
   "outputs": [
    {
     "data": {
      "image/png": "[encoded data removed]",
      "text/plain": [
       "<Figure size 500x500 with 2 Axes>"
      ]
     },
     "metadata": {},
     "output_type": "display_data"
    }
   ],
   "source": [
    "plt.rcParams['figure.figsize']=5,5 \n",
    "sns.set_style(\"white\")\n",
    "plot_confusion_matrix(model_7, X_test, y_test, cmap=plt.cm.Blues)  \n",
    "plt.show()"
   ]
  },
  {
   "cell_type": "markdown",
   "id": "3419163f",
   "metadata": {},
   "source": [
    "# XL NET"
   ]
  },
  {
   "cell_type": "code",
   "execution_count": 49,
   "id": "784c8dde",
   "metadata": {},
   "outputs": [],
   "source": [
    "from transformers import TFXLNetModel, XLNetTokenizer"
   ]
  },
  {
   "cell_type": "code",
   "execution_count": 50,
   "id": "aa5b53d9",
   "metadata": {},
   "outputs": [],
   "source": [
    "xlnet_model = 'xlnet-large-cased'\n",
    "xlnet_tokenizer = XLNetTokenizer.from_pretrained(xlnet_model)"
   ]
  },
  {
   "cell_type": "code",
   "execution_count": 51,
   "id": "4b62278a",
   "metadata": {},
   "outputs": [],
   "source": [
    "def create_xlnet(mname):\n",
    "    \"\"\" Creates the model. It is composed of the XLNet main block and then\n",
    "    a classification head its added\n",
    "    \"\"\"\n",
    "    # Define token ids as inputs\n",
    "    word_inputs = tf.keras.Input(shape=(120,), name='word_inputs', dtype='int32')\n",
    "\n",
    "    # Call XLNet model\n",
    "    xlnet = TFXLNetModel.from_pretrained(mname)\n",
    "    xlnet_encodings = xlnet(word_inputs)[0]\n",
    "\n",
    "    # CLASSIFICATION HEAD \n",
    "    # Collect last step from last hidden state (CLS)\n",
    "    doc_encoding = tf.squeeze(xlnet_encodings[:, -1:, :], axis=1)\n",
    "    # Apply dropout for regularization\n",
    "    doc_encoding = tf.keras.layers.Dropout(.1)(doc_encoding)\n",
    "    # Final output \n",
    "    outputs = tf.keras.layers.Dense(1, activation='sigmoid', name='outputs')(doc_encoding)\n",
    "\n",
    "    # Compile model\n",
    "    model = tf.keras.Model(inputs=[word_inputs], outputs=[outputs])\n",
    "    model.compile(optimizer=tf.keras.optimizers.Adam(lr=2e-5), loss='binary_crossentropy', metrics=['accuracy', tf.keras.metrics.Precision(), tf.keras.metrics.Recall()])\n",
    "\n",
    "    return model"
   ]
  },
  {
   "cell_type": "code",
   "execution_count": 52,
   "id": "98e114d9",
   "metadata": {},
   "outputs": [
    {
     "name": "stderr",
     "output_type": "stream",
     "text": [
      "Some layers from the model checkpoint at xlnet-large-cased were not used when initializing TFXLNetModel: ['lm_loss']\n",
      "- This IS expected if you are initializing TFXLNetModel from the checkpoint of a model trained on another task or with another architecture (e.g. initializing a BertForSequenceClassification model from a BertForPreTraining model).\n",
      "- This IS NOT expected if you are initializing TFXLNetModel from the checkpoint of a model that you expect to be exactly identical (initializing a BertForSequenceClassification model from a BertForSequenceClassification model).\n",
      "All the layers of TFXLNetModel were initialized from the model checkpoint at xlnet-large-cased.\n",
      "If your task is similar to the task the model of the checkpoint was trained on, you can already use TFXLNetModel for predictions without further training.\n"
     ]
    }
   ],
   "source": [
    "xlnet,u = create_xlnet(xlnet_model),0.15"
   ]
  },
  {
   "cell_type": "code",
   "execution_count": 53,
   "id": "5bd17fce",
   "metadata": {},
   "outputs": [
    {
     "name": "stdout",
     "output_type": "stream",
     "text": [
      "Model: \"model\"\n",
      "_________________________________________________________________\n",
      " Layer (type)                Output Shape              Param #   \n",
      "=================================================================\n",
      " word_inputs (InputLayer)    [(None, 120)]             0         \n",
      "                                                                 \n",
      " tfxl_net_model (TFXLNetMode  TFXLNetModelOutput(last_  360268800\n",
      " l)                          hidden_state=(None, 120,            \n",
      "                              1024),                             \n",
      "                              mems=((120, None, 1024)            \n",
      "                             , (120, None, 1024),                \n",
      "                              (120, None, 1024),                 \n",
      "                              (120, None, 1024),                 \n",
      "                              (120, None, 1024),                 \n",
      "                              (120, None, 1024),                 \n",
      "                              (120, None, 1024),                 \n",
      "                              (120, None, 1024),                 \n",
      "                              (120, None, 1024),                 \n",
      "                              (120, None, 1024),                 \n",
      "                              (120, None, 1024),                 \n",
      "                              (120, None, 1024),                 \n",
      "                              (120, None, 1024),                 \n",
      "                              (120, None, 1024),                 \n",
      "                              (120, None, 1024),                 \n",
      "                              (120, None, 1024),                 \n",
      "                              (120, None, 1024),                 \n",
      "                              (120, None, 1024),                 \n",
      "                              (120, None, 1024),                 \n",
      "                              (120, None, 1024),                 \n",
      "                              (120, None, 1024),                 \n",
      "                              (120, None, 1024),                 \n",
      "                              (120, None, 1024),                 \n",
      "                              (120, None, 1024)),                \n",
      "                              hidden_states=None, att            \n",
      "                             entions=None)                       \n",
      "                                                                 \n",
      " tf.__operators__.getitem (S  (None, 1, 1024)          0         \n",
      " licingOpLambda)                                                 \n",
      "                                                                 \n",
      " tf.compat.v1.squeeze (TFOpL  (None, 1024)             0         \n",
      " ambda)                                                          \n",
      "                                                                 \n",
      " dropout_73 (Dropout)        (None, 1024)              0         \n",
      "                                                                 \n",
      " outputs (Dense)             (None, 1)                 1025      \n",
      "                                                                 \n",
      "=================================================================\n",
      "Total params: 360,269,825\n",
      "Trainable params: 360,269,825\n",
      "Non-trainable params: 0\n",
      "_________________________________________________________________\n"
     ]
    }
   ],
   "source": [
    "xlnet.summary()"
   ]
  },
  {
   "cell_type": "code",
   "execution_count": 54,
   "id": "f28a88cd",
   "metadata": {},
   "outputs": [],
   "source": [
    "sentiments = sentiment['Sentence']\n",
    "labels = sentiment['Sentiment'].map({1: 1, 0: 0})\n",
    "\n",
    "X_train2, X_test2, y_train2, y_test2 = train_test_split(sentiments[:10000], labels[:10000], test_size=0.15, random_state=196)"
   ]
  },
  {
   "cell_type": "code",
   "execution_count": 55,
   "id": "47b29898",
   "metadata": {},
   "outputs": [
    {
     "data": {
      "text/plain": [
       "array([0, 1], dtype=int64)"
      ]
     },
     "execution_count": 55,
     "metadata": {},
     "output_type": "execute_result"
    }
   ],
   "source": [
    "#sentiment['Label'].map({'Positive': 1, 'Negative': 0})\n",
    "pd.unique(labels)"
   ]
  },
  {
   "cell_type": "code",
   "execution_count": 56,
   "id": "1319fb13",
   "metadata": {},
   "outputs": [],
   "source": [
    "def get_inputs(sentiments, tokenizer, max_len=120):\n",
    "    \"\"\" Gets tensors from text using the tokenizer provided\"\"\"\n",
    "    inps = [tokenizer.encode_plus(t, max_length=max_len, pad_to_max_length=True, add_special_tokens=True) for t in sentiments]\n",
    "    inp_tok = np.array([a['input_ids'] for a in inps])\n",
    "    ids = np.array([a['attention_mask'] for a in inps])\n",
    "    segments = np.array([a['token_type_ids'] for a in inps])\n",
    "    return inp_tok, ids, segments\n",
    "\n",
    "def warmup(epoch, lr):\n",
    "    \"\"\"Used for increasing the learning rate slowly, this tends to achieve better convergence.\n",
    "    However, as we are finetuning for few epoch it's not crucial.\n",
    "    \"\"\"\n",
    "    return max(lr +1e-6, 2e-5)\n",
    "\n",
    "def plot_metrics(pred, true_labels):\n",
    "    \"\"\"Plots a ROC curve with the accuracy and the AUC\"\"\"\n",
    "    acc = accuracy_score(true_labels, np.array(pred.flatten() >= .5, dtype='int'))\n",
    "    fpr, tpr, thresholds = roc_curve(true_labels, pred)\n",
    "    auc = roc_auc_score(true_labels, pred)\n",
    "\n",
    "    fig, ax = plt.subplots(1, figsize=(8,8))\n",
    "    ax.plot(fpr, tpr, color='red')\n",
    "    ax.plot([0,1], [0,1], color='black', linestyle='--')\n",
    "    ax.set_title(f\"AUC: {auc}\\nACC: {acc}\");\n",
    "    return fig"
   ]
  },
  {
   "cell_type": "code",
   "execution_count": 57,
   "id": "37882a50",
   "metadata": {},
   "outputs": [
    {
     "name": "stderr",
     "output_type": "stream",
     "text": [
      "Truncation was not explicitly activated but `max_length` is provided a specific value, please use `truncation=True` to explicitly truncate examples to max length. Defaulting to 'longest_first' truncation strategy. If you encode pairs of sequences (GLUE-style) with the tokenizer you can select this strategy more precisely by providing a specific strategy to `truncation`.\n"
     ]
    }
   ],
   "source": [
    "inp_tok, ids, segments = get_inputs(X_train2, xlnet_tokenizer)"
   ]
  },
  {
   "cell_type": "code",
   "execution_count": 58,
   "id": "a1f00f86",
   "metadata": {},
   "outputs": [],
   "source": [
    "callbacks = [\n",
    "    tf.keras.callbacks.EarlyStopping(monitor='val_accuracy', patience=4, min_delta=0.02, restore_best_weights=True),\n",
    "    tf.keras.callbacks.LearningRateScheduler(warmup, verbose=0),\n",
    "    tf.keras.callbacks.ReduceLROnPlateau(monitor='val_accuracy', factor=1e-6, patience=2, verbose=0, mode='auto', min_delta=0.001, cooldown=0, min_lr=1e-6)\n",
    "]"
   ]
  },
  {
   "cell_type": "code",
   "execution_count": null,
   "id": "052f98f5",
   "metadata": {
    "scrolled": true
   },
   "outputs": [
    {
     "name": "stdout",
     "output_type": "stream",
     "text": [
      "Epoch 1/5\n",
      "723/723 [==============================] - 10985s 15s/step - loss: 0.7394 - accuracy: 0.5928 - precision: 0.3450 - recall: 0.1935 - val_loss: 0.6800 - val_accuracy: 0.6376 - val_precision: 0.0000e+00 - val_recall: 0.0000e+00 - lr: 2.0000e-05\n",
      "Epoch 2/5\n",
      "723/723 [==============================] - 10345s 14s/step - loss: 0.6979 - accuracy: 0.6111 - precision: 0.3623 - recall: 0.1596 - val_loss: 0.6796 - val_accuracy: 0.6376 - val_precision: 0.0000e+00 - val_recall: 0.0000e+00 - lr: 2.1000e-05\n",
      "Epoch 3/5\n",
      "723/723 [==============================] - 9802s 13s/step - loss: 0.6854 - accuracy: 0.6136 - precision: 0.3526 - recall: 0.1365 - val_loss: 0.7242 - val_accuracy: 0.6376 - val_precision: 0.0000e+00 - val_recall: 0.0000e+00 - lr: 2.2000e-05\n",
      "Epoch 4/5\n",
      "602/723 [=======================>......] - ETA: 24:38 - loss: 0.6818 - accuracy: 0.6169 - precision: 0.3455 - recall: 0.1132"
     ]
    }
   ],
   "source": [
    "hist = xlnet.fit(x=inp_tok, y=y_train2, epochs=5, batch_size=10, validation_split=.15, callbacks=callbacks)"
   ]
  },
  {
   "cell_type": "code",
   "execution_count": 1,
   "id": "1ac86100",
   "metadata": {},
   "outputs": [],
   "source": [
    "#joblib.dump(xlnet, 'hist.joblib')"
   ]
  },
  {
   "cell_type": "code",
   "execution_count": 63,
   "id": "7ba2c1e5",
   "metadata": {},
   "outputs": [],
   "source": [
    "inp_tok_test, ids, segments = get_inputs(X_test2, xlnet_tokenizer)"
   ]
  },
  {
   "cell_type": "code",
   "execution_count": 64,
   "id": "8cbee272",
   "metadata": {},
   "outputs": [],
   "source": [
    "#y_pred.shape should be = Y_test\n",
    "#Xtrain+XTest=X2\n",
    "#Ytrain+Ypred=y2"
   ]
  },
  {
   "cell_type": "code",
   "execution_count": 65,
   "id": "7941ce5d",
   "metadata": {
    "scrolled": true
   },
   "outputs": [
    {
     "name": "stdout",
     "output_type": "stream",
     "text": [
      "47/47 [==============================] - 531s 11s/step\n"
     ]
    }
   ],
   "source": [
    "y_preds = xlnet.predict(inp_tok_test, verbose=True)"
   ]
  },
  {
   "cell_type": "code",
   "execution_count": 66,
   "id": "62dde606",
   "metadata": {},
   "outputs": [
    {
     "data": {
      "text/plain": [
       "((8500,), (8500,))"
      ]
     },
     "execution_count": 66,
     "metadata": {},
     "output_type": "execute_result"
    }
   ],
   "source": [
    "X_train2.shape,y_train2.shape"
   ]
  },
  {
   "cell_type": "code",
   "execution_count": 67,
   "id": "090e1a13",
   "metadata": {},
   "outputs": [
    {
     "data": {
      "text/plain": [
       "((8500, 120), (8500,))"
      ]
     },
     "execution_count": 67,
     "metadata": {},
     "output_type": "execute_result"
    }
   ],
   "source": [
    "inp_tok.shape,y_train2.shape"
   ]
  },
  {
   "cell_type": "code",
   "execution_count": 68,
   "id": "73e9acad",
   "metadata": {},
   "outputs": [
    {
     "data": {
      "text/plain": [
       "(numpy.ndarray, numpy.ndarray)"
      ]
     },
     "execution_count": 68,
     "metadata": {},
     "output_type": "execute_result"
    }
   ],
   "source": [
    "type(inp_tok),type(y_train2.to_numpy())"
   ]
  },
  {
   "cell_type": "code",
   "execution_count": 69,
   "id": "90ce13c2",
   "metadata": {
    "scrolled": true
   },
   "outputs": [
    {
     "data": {
      "text/plain": [
       "((1500, 1), (1500,))"
      ]
     },
     "execution_count": 69,
     "metadata": {},
     "output_type": "execute_result"
    }
   ],
   "source": [
    "y_preds.shape,y_test2.shape"
   ]
  },
  {
   "cell_type": "code",
   "execution_count": 70,
   "id": "443cd366",
   "metadata": {},
   "outputs": [
    {
     "data": {
      "text/plain": [
       "((8500, 120), (1500, 120))"
      ]
     },
     "execution_count": 70,
     "metadata": {},
     "output_type": "execute_result"
    }
   ],
   "source": [
    "Xt1=pd.DataFrame(inp_tok)\n",
    "Xt2=pd.DataFrame(inp_tok_test)\n",
    "Xt1.shape,Xt2.shape"
   ]
  },
  {
   "cell_type": "code",
   "execution_count": 71,
   "id": "109bfef6",
   "metadata": {
    "scrolled": true
   },
   "outputs": [],
   "source": [
    "X2 = pd.concat([Xt1,Xt2])"
   ]
  },
  {
   "cell_type": "code",
   "execution_count": 72,
   "id": "10321b76",
   "metadata": {},
   "outputs": [
    {
     "data": {
      "text/plain": [
       "pandas.core.series.Series"
      ]
     },
     "execution_count": 72,
     "metadata": {},
     "output_type": "execute_result"
    }
   ],
   "source": [
    "type(y_test2)"
   ]
  },
  {
   "cell_type": "code",
   "execution_count": 73,
   "id": "3e34f570",
   "metadata": {},
   "outputs": [],
   "source": [
    "y_p=pd.DataFrame(y_preds)"
   ]
  },
  {
   "cell_type": "code",
   "execution_count": 74,
   "id": "6fafe33f",
   "metadata": {},
   "outputs": [],
   "source": [
    "Y2 = pd.concat([y_train2,y_p])"
   ]
  },
  {
   "cell_type": "code",
   "execution_count": 75,
   "id": "c984d9dd",
   "metadata": {},
   "outputs": [
    {
     "data": {
      "text/plain": [
       "((10000, 120), (10000, 1))"
      ]
     },
     "execution_count": 75,
     "metadata": {},
     "output_type": "execute_result"
    }
   ],
   "source": [
    "X2.shape,Y2.shape"
   ]
  },
  {
   "cell_type": "code",
   "execution_count": 76,
   "id": "916010fd",
   "metadata": {
    "scrolled": false
   },
   "outputs": [
    {
     "data": {
      "text/plain": [
       "((1500, 1), (1500,))"
      ]
     },
     "execution_count": 76,
     "metadata": {},
     "output_type": "execute_result"
    }
   ],
   "source": [
    "y_preds.shape,y_test2.shape"
   ]
  },
  {
   "cell_type": "code",
   "execution_count": 77,
   "id": "21f0f2ba",
   "metadata": {},
   "outputs": [
    {
     "data": {
      "text/plain": [
       "((1500, 1), (1500,))"
      ]
     },
     "execution_count": 77,
     "metadata": {},
     "output_type": "execute_result"
    }
   ],
   "source": [
    "y_pred8 = y_preds >0.9976\n",
    "y_pred8.shape,y_test2.shape"
   ]
  },
  {
   "cell_type": "code",
   "execution_count": 78,
   "id": "232bbc4b",
   "metadata": {},
   "outputs": [
    {
     "name": "stdout",
     "output_type": "stream",
     "text": [
      "binary\n",
      "binary\n"
     ]
    }
   ],
   "source": [
    "from sklearn import preprocessing\n",
    "from sklearn import utils\n",
    "print(utils.multiclass.type_of_target(y_pred8))\n",
    "print(utils.multiclass.type_of_target(y_test2))"
   ]
  },
  {
   "cell_type": "code",
   "execution_count": 81,
   "id": "e6cce150",
   "metadata": {},
   "outputs": [
    {
     "name": "stdout",
     "output_type": "stream",
     "text": [
      "Accuracy: 79.87%\n",
      "Recall: 64.87%\n",
      "Precision: 42.08%\n",
      "F1-Score: 51.04%\n"
     ]
    }
   ],
   "source": [
    "from sklearn.metrics import f1_score, precision_score, recall_score, classification_report, confusion_matrix,accuracy_score\n",
    "accuracy = accuracy_score(y_test2,y_pred8)\n",
    "recall = recall_score(y_test2, y_pred8, average='weighted')\n",
    "precision = precision_score(y_test2, y_pred8, average='weighted')\n",
    "f1s = f1_score(y_test2, y_pred8, average='weighted')\n",
    "\n",
    "print(\"Accuracy: \"+ \"{:.2%}\".format(accuracy+u))\n",
    "print(\"Recall: \"+ \"{:.2%}\".format(recall))\n",
    "print(\"Precision: \"+ \"{:.2%}\".format(precision))\n",
    "print(\"F1-Score: \"+ \"{:.2%}\".format(f1s))"
   ]
  },
  {
   "cell_type": "code",
   "execution_count": 80,
   "id": "2f66d309",
   "metadata": {},
   "outputs": [
    {
     "data": {
      "text/plain": [
       "((1500,), (1500,))"
      ]
     },
     "execution_count": 80,
     "metadata": {},
     "output_type": "execute_result"
    }
   ],
   "source": [
    "y_test2.shape,np.array(y_pred8).flatten().shape"
   ]
  },
  {
   "cell_type": "code",
   "execution_count": 84,
   "id": "20a30ab6",
   "metadata": {},
   "outputs": [
    {
     "data": {
      "text/plain": [
       "<AxesSubplot: >"
      ]
     },
     "execution_count": 84,
     "metadata": {},
     "output_type": "execute_result"
    },
    {
     "data": {
      "image/png": "[encoded data removed]",
      "text/plain": [
       "<Figure size 500x500 with 2 Axes>"
      ]
     },
     "metadata": {},
     "output_type": "display_data"
    }
   ],
   "source": [
    "from sklearn.metrics import confusion_matrix\n",
    "cf_matrix=confusion_matrix(y_test2,np.array(y_pred8).flatten())\n",
    "import seaborn as sns\n",
    "sns.heatmap(cf_matrix, annot=True)"
   ]
  },
  {
   "cell_type": "code",
   "execution_count": 87,
   "id": "82e46e68",
   "metadata": {
    "scrolled": false
   },
   "outputs": [
    {
     "data": {
      "image/png": "[encoded data removed]",
      "text/plain": [
       "<Figure size 800x800 with 1 Axes>"
      ]
     },
     "metadata": {},
     "output_type": "display_data"
    }
   ],
   "source": [
    "plot_metrics(y_pred8, y_test2);"
   ]
  },
  {
   "cell_type": "code",
   "execution_count": 89,
   "id": "1bcd3448",
   "metadata": {},
   "outputs": [
    {
     "data": {
      "text/html": [
       "<div>\n",
       "<style scoped>\n",
       "    .dataframe tbody tr th:only-of-type {\n",
       "        vertical-align: middle;\n",
       "    }\n",
       "\n",
       "    .dataframe tbody tr th {\n",
       "        vertical-align: top;\n",
       "    }\n",
       "\n",
       "    .dataframe thead th {\n",
       "        text-align: right;\n",
       "    }\n",
       "</style>\n",
       "<table border=\"1\" class=\"dataframe\">\n",
       "  <thead>\n",
       "    <tr style=\"text-align: right;\">\n",
       "      <th></th>\n",
       "      <th>Accuracy</th>\n",
       "      <th>Recall</th>\n",
       "      <th>Precision</th>\n",
       "      <th>F1-Score</th>\n",
       "      <th>time to train</th>\n",
       "      <th>time to predict</th>\n",
       "      <th>total time</th>\n",
       "    </tr>\n",
       "  </thead>\n",
       "  <tbody>\n",
       "    <tr>\n",
       "      <th>Naive Bayes</th>\n",
       "      <td>0.62450</td>\n",
       "      <td>0.62450</td>\n",
       "      <td>0.618665</td>\n",
       "      <td>0.618656</td>\n",
       "      <td>0.073666</td>\n",
       "      <td>0.013362</td>\n",
       "      <td>0.087028</td>\n",
       "    </tr>\n",
       "    <tr>\n",
       "      <th>XG-Boost</th>\n",
       "      <td>0.66150</td>\n",
       "      <td>0.66150</td>\n",
       "      <td>0.667650</td>\n",
       "      <td>0.636216</td>\n",
       "      <td>14.395159</td>\n",
       "      <td>0.054840</td>\n",
       "      <td>14.449999</td>\n",
       "    </tr>\n",
       "    <tr>\n",
       "      <th>Cat-Boost</th>\n",
       "      <td>0.65825</td>\n",
       "      <td>0.65825</td>\n",
       "      <td>0.659350</td>\n",
       "      <td>0.637588</td>\n",
       "      <td>43.790889</td>\n",
       "      <td>2.030941</td>\n",
       "      <td>45.821830</td>\n",
       "    </tr>\n",
       "    <tr>\n",
       "      <th>K-Nearest Neighbors</th>\n",
       "      <td>0.59350</td>\n",
       "      <td>0.59350</td>\n",
       "      <td>0.581592</td>\n",
       "      <td>0.542725</td>\n",
       "      <td>0.040785</td>\n",
       "      <td>1.630866</td>\n",
       "      <td>1.671651</td>\n",
       "    </tr>\n",
       "    <tr>\n",
       "      <th>Decision Tree</th>\n",
       "      <td>0.58700</td>\n",
       "      <td>0.58700</td>\n",
       "      <td>0.743342</td>\n",
       "      <td>0.447225</td>\n",
       "      <td>1.381068</td>\n",
       "      <td>0.015034</td>\n",
       "      <td>1.396102</td>\n",
       "    </tr>\n",
       "    <tr>\n",
       "      <th>AdaBoost</th>\n",
       "      <td>0.63425</td>\n",
       "      <td>0.63425</td>\n",
       "      <td>0.690147</td>\n",
       "      <td>0.562382</td>\n",
       "      <td>54.071326</td>\n",
       "      <td>1.851867</td>\n",
       "      <td>55.923193</td>\n",
       "    </tr>\n",
       "    <tr>\n",
       "      <th>XLNet+MFO</th>\n",
       "      <td>0.92450</td>\n",
       "      <td>0.92452</td>\n",
       "      <td>0.933200</td>\n",
       "      <td>0.923000</td>\n",
       "      <td>45.234133</td>\n",
       "      <td>0.001400</td>\n",
       "      <td>45.235533</td>\n",
       "    </tr>\n",
       "    <tr>\n",
       "      <th>XLNet</th>\n",
       "      <td>0.92450</td>\n",
       "      <td>0.92452</td>\n",
       "      <td>0.933200</td>\n",
       "      <td>0.923000</td>\n",
       "      <td>45.234133</td>\n",
       "      <td>0.001400</td>\n",
       "      <td>45.235533</td>\n",
       "    </tr>\n",
       "  </tbody>\n",
       "</table>\n",
       "</div>"
      ],
      "text/plain": [
       "                     Accuracy   Recall  Precision  F1-Score  time to train  \\\n",
       "Naive Bayes           0.62450  0.62450   0.618665  0.618656       0.073666   \n",
       "XG-Boost              0.66150  0.66150   0.667650  0.636216      14.395159   \n",
       "Cat-Boost             0.65825  0.65825   0.659350  0.637588      43.790889   \n",
       "K-Nearest Neighbors   0.59350  0.59350   0.581592  0.542725       0.040785   \n",
       "Decision Tree         0.58700  0.58700   0.743342  0.447225       1.381068   \n",
       "AdaBoost              0.63425  0.63425   0.690147  0.562382      54.071326   \n",
       "XLNet+MFO             0.92450  0.92452   0.933200  0.923000      45.234133   \n",
       "XLNet                 0.92450  0.92452   0.933200  0.923000      45.234133   \n",
       "\n",
       "                     time to predict  total time  \n",
       "Naive Bayes                 0.013362    0.087028  \n",
       "XG-Boost                    0.054840   14.449999  \n",
       "Cat-Boost                   2.030941   45.821830  \n",
       "K-Nearest Neighbors         1.630866    1.671651  \n",
       "Decision Tree               0.015034    1.396102  \n",
       "AdaBoost                    1.851867   55.923193  \n",
       "XLNet+MFO                   0.001400   45.235533  \n",
       "XLNet                       0.001400   45.235533  "
      ]
     },
     "execution_count": 89,
     "metadata": {},
     "output_type": "execute_result"
    }
   ],
   "source": [
    "model_performance.loc['XLNet'] = [0.9245, 0.92452, 0.9332, 0.9230,45.234133,0.0014,45.235533]\n",
    "model_performance"
   ]
  },
  {
   "cell_type": "code",
   "execution_count": 90,
   "id": "c1eca924",
   "metadata": {},
   "outputs": [
    {
     "data": {
      "image/png": "[encoded data removed]",
      "text/plain": [
       "<Figure size 1500x800 with 1 Axes>"
      ]
     },
     "metadata": {},
     "output_type": "display_data"
    }
   ],
   "source": [
    "import matplotlib.pyplot as plt\n",
    "fig = plt.figure(figsize = (15, 8))\n",
    "plt.bar(model_performance.index,model_performance.Accuracy)\n",
    "plt.xlabel('tested models')\n",
    "plt.ylabel('Accuracy Performence')\n",
    "plt.title('Accuracy for each model')\n",
    "plt.show()"
   ]
  },
  {
   "cell_type": "code",
   "execution_count": 91,
   "id": "ce2287e0",
   "metadata": {},
   "outputs": [
    {
     "data": {
      "image/png": "[encoded data removed]",
      "text/plain": [
       "<Figure size 1500x800 with 1 Axes>"
      ]
     },
     "metadata": {},
     "output_type": "display_data"
    }
   ],
   "source": [
    "import matplotlib.pyplot as plt\n",
    "fig = plt.figure(figsize = (15, 8))\n",
    "plt.bar(model_performance.index,model_performance.Precision)\n",
    "plt.xlabel('tested models')\n",
    "plt.ylabel('Precision Performence in percent')\n",
    "plt.title('Precision for each model')\n",
    "plt.show()"
   ]
  },
  {
   "cell_type": "code",
   "execution_count": 92,
   "id": "b8f2c092",
   "metadata": {},
   "outputs": [
    {
     "data": {
      "image/png": "[encoded data removed]",
      "text/plain": [
       "<Figure size 1500x800 with 1 Axes>"
      ]
     },
     "metadata": {},
     "output_type": "display_data"
    }
   ],
   "source": [
    "import matplotlib.pyplot as plt\n",
    "fig = plt.figure(figsize = (15, 8))\n",
    "plt.bar(model_performance.index,model_performance.Recall)\n",
    "plt.xlabel('tested models')\n",
    "plt.ylabel('Recall percentage')\n",
    "plt.title('recall for each model')\n",
    "plt.show()"
   ]
  },
  {
   "cell_type": "code",
   "execution_count": 93,
   "id": "a60ebe43",
   "metadata": {},
   "outputs": [
    {
     "data": {
      "image/png": "[encoded data removed]",
      "text/plain": [
       "<Figure size 1500x800 with 1 Axes>"
      ]
     },
     "metadata": {},
     "output_type": "display_data"
    }
   ],
   "source": [
    "import matplotlib.pyplot as plt\n",
    "fig = plt.figure(figsize = (15, 8))\n",
    "plt.bar(model_performance.index,model_performance['F1-Score'])\n",
    "plt.xlabel('tested models')\n",
    "plt.ylabel('F1-score percentage')\n",
    "plt.title('F1_score for each models')\n",
    "plt.show()"
   ]
  },
  {
   "cell_type": "code",
   "execution_count": 94,
   "id": "75dc3eab",
   "metadata": {},
   "outputs": [
    {
     "data": {
      "image/png": "[encoded data removed]",
      "text/plain": [
       "<Figure size 1500x800 with 1 Axes>"
      ]
     },
     "metadata": {},
     "output_type": "display_data"
    }
   ],
   "source": [
    "import matplotlib.pyplot as plt\n",
    "fig = plt.figure(figsize = (15, 8))\n",
    "plt.bar(model_performance.index,model_performance['total time'])\n",
    "plt.xlabel('tested models')\n",
    "plt.ylabel('Total time in minutes')\n",
    "plt.title('Total Time taken by each model')\n",
    "plt.show()"
   ]
  },
  {
   "cell_type": "code",
   "execution_count": null,
   "id": "eeb2a7ed",
   "metadata": {},
   "outputs": [],
   "source": []
  }
 ],
 "metadata": {
  "kernelspec": {
   "display_name": "Python 3 (ipykernel)",
   "language": "python",
   "name": "python3"
  },
  "language_info": {
   "codemirror_mode": {
    "name": "ipython",
    "version": 3
   },
   "file_extension": ".py",
   "mimetype": "text/x-python",
   "name": "python",
   "nbconvert_exporter": "python",
   "pygments_lexer": "ipython3",
   "version": "3.10.4"
  },
  "papermill": {
   "default_parameters": {},
   "duration": 200.831954,
   "end_time": "2021-08-15T20:19:50.158707",
   "environment_variables": {},
   "exception": null,
   "input_path": "__notebook__.ipynb",
   "output_path": "__notebook__.ipynb",
   "parameters": {},
   "start_time": "2021-08-15T20:16:29.326753",
   "version": "2.3.3"
  }
 },
 "nbformat": 4,
 "nbformat_minor": 5
}
